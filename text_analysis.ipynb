{
 "metadata": {
  "name": "",
  "signature": "sha256:ddaa843e17d2a5bf23c36e7ac702d1da3186eab6e50e747ae140c465160e3479"
 },
 "nbformat": 3,
 "nbformat_minor": 0,
 "worksheets": [
  {
   "cells": [
    {
     "cell_type": "code",
     "collapsed": false,
     "input": [
      "import pandas as pd\n",
      "import numpy as np\n",
      "from matplotlib import pyplot as plt\n",
      "import sys, os, re, csv\n",
      "import wordcloud"
     ],
     "language": "python",
     "metadata": {},
     "outputs": [],
     "prompt_number": 1
    },
    {
     "cell_type": "code",
     "collapsed": false,
     "input": [
      "%matplotlib inline\n",
      "plt.style.use('ggplot')"
     ],
     "language": "python",
     "metadata": {},
     "outputs": [],
     "prompt_number": 2
    },
    {
     "cell_type": "code",
     "collapsed": false,
     "input": [
      "%run text_converter.py"
     ],
     "language": "python",
     "metadata": {},
     "outputs": [],
     "prompt_number": 3
    },
    {
     "cell_type": "code",
     "collapsed": false,
     "input": [
      "sources = ['indeed', 'dice']\n",
      "word_freq = {}\n",
      "for source in sources:\n",
      "    with open('data/' + source + '.csv', 'rb') as f:\n",
      "        for row in csv.reader(f):\n",
      "            if row[0] == 'job_id':\n",
      "                continue\n",
      "            words = [word.lower() for word in convert(row[9]).split(' ')]\n",
      "            for word in words:\n",
      "                word_freq[word] = word_freq.get(word, 0) + 1"
     ],
     "language": "python",
     "metadata": {},
     "outputs": [
      {
       "name": "stdout",
       "output_type": "stream",
       "stream": "stdout",
       "text": [
        "Character \"\ufffd\": is it a word character or not? [y/n]:n\n"
       ]
      },
      {
       "name": "stdout",
       "output_type": "stream",
       "stream": "stdout",
       "text": [
        "Character \"\ufffd\": is it a word character or not? [y/n]:n\n"
       ]
      },
      {
       "name": "stdout",
       "output_type": "stream",
       "stream": "stdout",
       "text": [
        "Character \"\ufffd\": is it a word character or not? [y/n]:n\n"
       ]
      },
      {
       "name": "stdout",
       "output_type": "stream",
       "stream": "stdout",
       "text": [
        "Character \"\ufffd\": is it a word character or not? [y/n]:n\n"
       ]
      },
      {
       "name": "stdout",
       "output_type": "stream",
       "stream": "stdout",
       "text": [
        "Character \"\ufffd\": is it a word character or not? [y/n]:n\n"
       ]
      },
      {
       "name": "stdout",
       "output_type": "stream",
       "stream": "stdout",
       "text": [
        "Character \"\ufffd\": is it a word character or not? [y/n]:n\n"
       ]
      },
      {
       "name": "stdout",
       "output_type": "stream",
       "stream": "stdout",
       "text": [
        "Character \"\ufffd\": is it a word character or not? [y/n]:n\n"
       ]
      },
      {
       "name": "stdout",
       "output_type": "stream",
       "stream": "stdout",
       "text": [
        "Character \"\ufffd\": is it a word character or not? [y/n]:n\n"
       ]
      },
      {
       "name": "stdout",
       "output_type": "stream",
       "stream": "stdout",
       "text": [
        "Character \"\ufffd\": is it a word character or not? [y/n]:n\n"
       ]
      },
      {
       "name": "stdout",
       "output_type": "stream",
       "stream": "stdout",
       "text": [
        "Character \"\ufffd\": is it a word character or not? [y/n]:n\n"
       ]
      },
      {
       "name": "stdout",
       "output_type": "stream",
       "stream": "stdout",
       "text": [
        "Character \"\u007f\": is it a word character or not? [y/n]:n\n"
       ]
      },
      {
       "name": "stdout",
       "output_type": "stream",
       "stream": "stdout",
       "text": [
        "Character \"\ufffd\": is it a word character or not? [y/n]:n\n"
       ]
      },
      {
       "name": "stdout",
       "output_type": "stream",
       "stream": "stdout",
       "text": [
        "Character \"\ufffd\": is it a word character or not? [y/n]:n\n"
       ]
      }
     ],
     "prompt_number": 4
    },
    {
     "cell_type": "code",
     "collapsed": false,
     "input": [
      "max(word_freq.values())"
     ],
     "language": "python",
     "metadata": {},
     "outputs": [
      {
       "metadata": {},
       "output_type": "pyout",
       "prompt_number": 5,
       "text": [
        "1449032"
       ]
      }
     ],
     "prompt_number": 5
    },
    {
     "cell_type": "code",
     "collapsed": false,
     "input": [
      "word_df = pd.DataFrame(word_freq.items(), columns = ['word', 'count']).sort_values('count', ascending = False)"
     ],
     "language": "python",
     "metadata": {},
     "outputs": [],
     "prompt_number": 6
    },
    {
     "cell_type": "code",
     "collapsed": false,
     "input": [
      "word_df.head(50)"
     ],
     "language": "python",
     "metadata": {},
     "outputs": [
      {
       "html": [
        "<div style=\"max-width:1500px;overflow:auto;\">\n",
        "<table border=\"1\" class=\"dataframe\">\n",
        "  <thead>\n",
        "    <tr style=\"text-align: right;\">\n",
        "      <th></th>\n",
        "      <th>word</th>\n",
        "      <th>count</th>\n",
        "    </tr>\n",
        "  </thead>\n",
        "  <tbody>\n",
        "    <tr>\n",
        "      <th>35869</th>\n",
        "      <td>and</td>\n",
        "      <td>1449032</td>\n",
        "    </tr>\n",
        "    <tr>\n",
        "      <th>41433</th>\n",
        "      <td>to</td>\n",
        "      <td>756184</td>\n",
        "    </tr>\n",
        "    <tr>\n",
        "      <th>25006</th>\n",
        "      <td>the</td>\n",
        "      <td>625174</td>\n",
        "    </tr>\n",
        "    <tr>\n",
        "      <th>36373</th>\n",
        "      <td>of</td>\n",
        "      <td>578610</td>\n",
        "    </tr>\n",
        "    <tr>\n",
        "      <th>29966</th>\n",
        "      <td>in</td>\n",
        "      <td>447075</td>\n",
        "    </tr>\n",
        "    <tr>\n",
        "      <th>2321</th>\n",
        "      <td>with</td>\n",
        "      <td>407624</td>\n",
        "    </tr>\n",
        "    <tr>\n",
        "      <th>66260</th>\n",
        "      <td>a</td>\n",
        "      <td>390032</td>\n",
        "    </tr>\n",
        "    <tr>\n",
        "      <th>2566</th>\n",
        "      <td>experience</td>\n",
        "      <td>320550</td>\n",
        "    </tr>\n",
        "    <tr>\n",
        "      <th>20219</th>\n",
        "      <td>for</td>\n",
        "      <td>299572</td>\n",
        "    </tr>\n",
        "    <tr>\n",
        "      <th>36391</th>\n",
        "      <td>or</td>\n",
        "      <td>229287</td>\n",
        "    </tr>\n",
        "    <tr>\n",
        "      <th>29953</th>\n",
        "      <td>is</td>\n",
        "      <td>176716</td>\n",
        "    </tr>\n",
        "    <tr>\n",
        "      <th>36365</th>\n",
        "      <td>on</td>\n",
        "      <td>153988</td>\n",
        "    </tr>\n",
        "    <tr>\n",
        "      <th>21580</th>\n",
        "      <td>as</td>\n",
        "      <td>153867</td>\n",
        "    </tr>\n",
        "    <tr>\n",
        "      <th>63792</th>\n",
        "      <td>work</td>\n",
        "      <td>143183</td>\n",
        "    </tr>\n",
        "    <tr>\n",
        "      <th>65818</th>\n",
        "      <td>business</td>\n",
        "      <td>139958</td>\n",
        "    </tr>\n",
        "    <tr>\n",
        "      <th>33981</th>\n",
        "      <td>our</td>\n",
        "      <td>130012</td>\n",
        "    </tr>\n",
        "    <tr>\n",
        "      <th>22670</th>\n",
        "      <td>be</td>\n",
        "      <td>129862</td>\n",
        "    </tr>\n",
        "    <tr>\n",
        "      <th>77818</th>\n",
        "      <td>will</td>\n",
        "      <td>119604</td>\n",
        "    </tr>\n",
        "    <tr>\n",
        "      <th>20712</th>\n",
        "      <td>data</td>\n",
        "      <td>119567</td>\n",
        "    </tr>\n",
        "    <tr>\n",
        "      <th>12850</th>\n",
        "      <td>development</td>\n",
        "      <td>119473</td>\n",
        "    </tr>\n",
        "    <tr>\n",
        "      <th>68540</th>\n",
        "      <td>skills</td>\n",
        "      <td>118839</td>\n",
        "    </tr>\n",
        "    <tr>\n",
        "      <th>65975</th>\n",
        "      <td>you</td>\n",
        "      <td>115862</td>\n",
        "    </tr>\n",
        "    <tr>\n",
        "      <th>76517</th>\n",
        "      <td>are</td>\n",
        "      <td>108607</td>\n",
        "    </tr>\n",
        "    <tr>\n",
        "      <th>48064</th>\n",
        "      <td>management</td>\n",
        "      <td>103316</td>\n",
        "    </tr>\n",
        "    <tr>\n",
        "      <th>20490</th>\n",
        "      <td>team</td>\n",
        "      <td>99572</td>\n",
        "    </tr>\n",
        "    <tr>\n",
        "      <th>44654</th>\n",
        "      <td>we</td>\n",
        "      <td>97468</td>\n",
        "    </tr>\n",
        "    <tr>\n",
        "      <th>62398</th>\n",
        "      <td>this</td>\n",
        "      <td>96503</td>\n",
        "    </tr>\n",
        "    <tr>\n",
        "      <th>1517</th>\n",
        "      <td>years</td>\n",
        "      <td>96105</td>\n",
        "    </tr>\n",
        "    <tr>\n",
        "      <th>7518</th>\n",
        "      <td>systems</td>\n",
        "      <td>94391</td>\n",
        "    </tr>\n",
        "    <tr>\n",
        "      <th>21577</th>\n",
        "      <td>an</td>\n",
        "      <td>94319</td>\n",
        "    </tr>\n",
        "    <tr>\n",
        "      <th>42807</th>\n",
        "      <td>technical</td>\n",
        "      <td>90399</td>\n",
        "    </tr>\n",
        "    <tr>\n",
        "      <th>43782</th>\n",
        "      <td>software</td>\n",
        "      <td>89603</td>\n",
        "    </tr>\n",
        "    <tr>\n",
        "      <th>40031</th>\n",
        "      <td>support</td>\n",
        "      <td>88143</td>\n",
        "    </tr>\n",
        "    <tr>\n",
        "      <th>27825</th>\n",
        "      <td>required</td>\n",
        "      <td>86284</td>\n",
        "    </tr>\n",
        "    <tr>\n",
        "      <th>65291</th>\n",
        "      <td>that</td>\n",
        "      <td>85393</td>\n",
        "    </tr>\n",
        "    <tr>\n",
        "      <th>36638</th>\n",
        "      <td>design</td>\n",
        "      <td>82874</td>\n",
        "    </tr>\n",
        "    <tr>\n",
        "      <th>6151</th>\n",
        "      <td>knowledge</td>\n",
        "      <td>82328</td>\n",
        "    </tr>\n",
        "    <tr>\n",
        "      <th>39460</th>\n",
        "      <td>project</td>\n",
        "      <td>81183</td>\n",
        "    </tr>\n",
        "    <tr>\n",
        "      <th>18741</th>\n",
        "      <td>ability</td>\n",
        "      <td>79745</td>\n",
        "    </tr>\n",
        "    <tr>\n",
        "      <th>56141</th>\n",
        "      <td>all</td>\n",
        "      <td>78829</td>\n",
        "    </tr>\n",
        "    <tr>\n",
        "      <th>29956</th>\n",
        "      <td>it</td>\n",
        "      <td>77505</td>\n",
        "    </tr>\n",
        "    <tr>\n",
        "      <th>35586</th>\n",
        "      <td>requirements</td>\n",
        "      <td>76847</td>\n",
        "    </tr>\n",
        "    <tr>\n",
        "      <th>21583</th>\n",
        "      <td>at</td>\n",
        "      <td>72773</td>\n",
        "    </tr>\n",
        "    <tr>\n",
        "      <th>54297</th>\n",
        "      <td>solutions</td>\n",
        "      <td>71085</td>\n",
        "    </tr>\n",
        "    <tr>\n",
        "      <th>13752</th>\n",
        "      <td>have</td>\n",
        "      <td>70885</td>\n",
        "    </tr>\n",
        "    <tr>\n",
        "      <th>65879</th>\n",
        "      <td>your</td>\n",
        "      <td>70337</td>\n",
        "    </tr>\n",
        "    <tr>\n",
        "      <th>2059</th>\n",
        "      <td>technology</td>\n",
        "      <td>67863</td>\n",
        "    </tr>\n",
        "    <tr>\n",
        "      <th>12561</th>\n",
        "      <td>services</td>\n",
        "      <td>66810</td>\n",
        "    </tr>\n",
        "    <tr>\n",
        "      <th>25096</th>\n",
        "      <td>security</td>\n",
        "      <td>65837</td>\n",
        "    </tr>\n",
        "    <tr>\n",
        "      <th>38912</th>\n",
        "      <td>other</td>\n",
        "      <td>64547</td>\n",
        "    </tr>\n",
        "  </tbody>\n",
        "</table>\n",
        "</div>"
       ],
       "metadata": {},
       "output_type": "pyout",
       "prompt_number": 7,
       "text": [
        "               word    count\n",
        "35869           and  1449032\n",
        "41433            to   756184\n",
        "25006           the   625174\n",
        "36373            of   578610\n",
        "29966            in   447075\n",
        "2321           with   407624\n",
        "66260             a   390032\n",
        "2566     experience   320550\n",
        "20219           for   299572\n",
        "36391            or   229287\n",
        "29953            is   176716\n",
        "36365            on   153988\n",
        "21580            as   153867\n",
        "63792          work   143183\n",
        "65818      business   139958\n",
        "33981           our   130012\n",
        "22670            be   129862\n",
        "77818          will   119604\n",
        "20712          data   119567\n",
        "12850   development   119473\n",
        "68540        skills   118839\n",
        "65975           you   115862\n",
        "76517           are   108607\n",
        "48064    management   103316\n",
        "20490          team    99572\n",
        "44654            we    97468\n",
        "62398          this    96503\n",
        "1517          years    96105\n",
        "7518        systems    94391\n",
        "21577            an    94319\n",
        "42807     technical    90399\n",
        "43782      software    89603\n",
        "40031       support    88143\n",
        "27825      required    86284\n",
        "65291          that    85393\n",
        "36638        design    82874\n",
        "6151      knowledge    82328\n",
        "39460       project    81183\n",
        "18741       ability    79745\n",
        "56141           all    78829\n",
        "29956            it    77505\n",
        "35586  requirements    76847\n",
        "21583            at    72773\n",
        "54297     solutions    71085\n",
        "13752          have    70885\n",
        "65879          your    70337\n",
        "2059     technology    67863\n",
        "12561      services    66810\n",
        "25096      security    65837\n",
        "38912         other    64547"
       ]
      }
     ],
     "prompt_number": 7
    },
    {
     "cell_type": "code",
     "collapsed": false,
     "input": [
      "dic_to_cloud = [(word, count) for word, count in word_freq.items() if len(word) > 0 and word not in wordcloud.STOPWORDS]\n",
      "wc = wordcloud.WordCloud(background_color=\"white\", width = 800, height = 400)\n",
      "wc.generate_from_frequencies(dic_to_cloud)\n",
      "wc.to_file('../presentation/images/word_could_more_queries.png')\n",
      "plt.imshow(wc)\n",
      "plt.axis(\"off\")"
     ],
     "language": "python",
     "metadata": {},
     "outputs": [
      {
       "metadata": {},
       "output_type": "pyout",
       "prompt_number": 8,
       "text": [
        "(-0.5, 799.5, 399.5, -0.5)"
       ]
      },
      {
       "metadata": {},
       "output_type": "display_data",
       "png": "[encoded data removed]",
       "text": [
        "<matplotlib.figure.Figure at 0x7f71d93b9390>"
       ]
      }
     ],
     "prompt_number": 8
    },
    {
     "cell_type": "code",
     "collapsed": false,
     "input": [
      "sources = ['indeed', 'dice']\n",
      "for source in sources:\n",
      "    df = pd.read_csv('data/' + source + '.csv')\n",
      "    df['role_description'] = df['role_description'].fillna('')\n",
      "    df['role_description'] = df['role_description'].map(convert)\n",
      "    df.to_csv('data/' + source + '_cleaned.csv', index = False, quoting = csv.QUOTE_MINIMAL)"
     ],
     "language": "python",
     "metadata": {},
     "outputs": [],
     "prompt_number": 10
    }
   ],
   "metadata": {}
  }
 ]
}