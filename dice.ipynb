{
 "metadata": {
  "name": "",
  "signature": "sha256:b6f286f660e19d56f6d4603ae1b6b75e4219d7b0b8245d9e540f367e48a9b7a2"
 },
 "nbformat": 3,
 "nbformat_minor": 0,
 "worksheets": [
  {
   "cells": [
    {
     "cell_type": "heading",
     "level": 1,
     "metadata": {},
     "source": [
      "Dice API Interface"
     ]
    },
    {
     "cell_type": "markdown",
     "metadata": {},
     "source": [
      "More info in the [documentation](http://www.dice.com/common/content/util/apidoc/jobsearch.html).\n",
      "\n",
      "Supported parameters:\n",
      "* *direct* - (optional) if the value of this parameter is \"1\" then jobs returned will be direct hire\n",
      "* *areacode* - (optional) specify the jobs area code\n",
      "* *country* - (optional) specify the jobs ISO 3166 country code\n",
      "* *state* - (optional) specify the jobs United States Post Office state code\n",
      "* *skill* - (optional) specify search text for the jobs skill property\n",
      "* *city* - (optional) specify the jobs United States Post Office ZipCode as the center of 40 mile radius\n",
      "* *text* - (optional) specify search text for the jobs entire body\n",
      "* *ip* - (optional) specify an IP address that will be used to look up a geocode which will be used in the search\n",
      "* *age* - (optional) specify a posting age (a.k.a. days back)\n",
      "* *diceid* - (optional) specify a Dice customer ID to find only jobs from that company\n",
      "* *page* - (optional) specify a page number of the results to be displayed (1 based)\n",
      "* *pgcnt* - (optional) specify the number of results per page\n",
      "* *sort* - (optional) specify a sort paremeter; sort=1 sorts by posted age, sort=2 sorts by job title, sort=3 sorts by company, sort=4 sorts by location\n",
      "* *sd* - (optional) sort direction; sd=a sort order is ASCENDING sd=d sort order is DESCENDING"
     ]
    },
    {
     "cell_type": "code",
     "collapsed": false,
     "input": [
      "import sys\n",
      "import requests\n",
      "import pandas as pd\n",
      "import numpy as np\n",
      "from datetime import datetime, date\n",
      "import time"
     ],
     "language": "python",
     "metadata": {},
     "outputs": [],
     "prompt_number": 1
    },
    {
     "cell_type": "code",
     "collapsed": false,
     "input": [
      "import matplotlib.pyplot as plt\n",
      "%matplotlib inline"
     ],
     "language": "python",
     "metadata": {},
     "outputs": [],
     "prompt_number": 2
    },
    {
     "cell_type": "code",
     "collapsed": false,
     "input": [
      "domain = 'http://service.dice.com'\n",
      "path = '/api/rest/jobsearch/v1/simple.json'\n",
      "parameters = {'text': 'data', 'page': 1, 'pgcnt': 5}"
     ],
     "language": "python",
     "metadata": {},
     "outputs": [],
     "prompt_number": 3
    },
    {
     "cell_type": "code",
     "collapsed": false,
     "input": [
      "response = requests.get(domain + path, params = parameters)\n",
      "data = response.json()"
     ],
     "language": "python",
     "metadata": {},
     "outputs": [],
     "prompt_number": 4
    },
    {
     "cell_type": "code",
     "collapsed": false,
     "input": [
      "data"
     ],
     "language": "python",
     "metadata": {},
     "outputs": [
      {
       "metadata": {},
       "output_type": "pyout",
       "prompt_number": 5,
       "text": [
        "{u'count': 31232,\n",
        " u'firstDocument': 1,\n",
        " u'lastDocument': 5,\n",
        " u'nextUrl': u'/api/rest/jobsearch/v1/simple.json?areacode=&country=&state=&skill=&city=&text=data&pgcnt=5&ip=&diceid=&page=2',\n",
        " u'resultItemList': [{u'company': u'DCM Data Systems',\n",
        "   u'date': u'2017-02-10',\n",
        "   u'detailUrl': u'http://www.dice.com/job/result/10109811/DPCMSDBDLMI?src=19',\n",
        "   u'jobTitle': u'Syncsort DMX : Big Data',\n",
        "   u'location': u'Lansing, MI'},\n",
        "  {u'company': u'Data Resource Group',\n",
        "   u'date': u'2017-02-06',\n",
        "   u'detailUrl': u'http://www.dice.com/job/result/10354693/827902?src=19',\n",
        "   u'jobTitle': u'Data Analyst',\n",
        "   u'location': u'Beaverton, OR'},\n",
        "  {u'company': u'Data Resource Technologies',\n",
        "   u'date': u'2017-02-07',\n",
        "   u'detailUrl': u'http://www.dice.com/job/result/10124769/SASE-GA-JM?src=19',\n",
        "   u'jobTitle': u'Secure Assets Data Analyst',\n",
        "   u'location': u'Atlanta, GA'},\n",
        "  {u'company': u'DCM Data Systems',\n",
        "   u'date': u'2017-02-08',\n",
        "   u'detailUrl': u'http://www.dice.com/job/result/10109811/DGCESESRCA?src=19',\n",
        "   u'jobTitle': u'Software Engineer  - Big Data',\n",
        "   u'location': u'San Ramon, CA'},\n",
        "  {u'company': u'Projas Technologies, LLC',\n",
        "   u'date': u'2017-02-11',\n",
        "   u'detailUrl': u'http://www.dice.com/job/result/10126850/DATA-ENGINEER?src=19',\n",
        "   u'jobTitle': u'Senior Data Engineer *** 200K or contract to hire ***',\n",
        "   u'location': u'San Francisco, CA'}]}"
       ]
      }
     ],
     "prompt_number": 5
    },
    {
     "cell_type": "markdown",
     "metadata": {},
     "source": [
      "Example empty list (no results):"
     ]
    },
    {
     "cell_type": "code",
     "collapsed": false,
     "input": [
      "requests.get(domain + path, params = {'text': 'janitor', 'city': '10001'}).json()"
     ],
     "language": "python",
     "metadata": {},
     "outputs": [
      {
       "metadata": {},
       "output_type": "pyout",
       "prompt_number": 6,
       "text": [
        "{u'count': 0, u'firstDocument': 0, u'lastDocument': 0}"
       ]
      }
     ],
     "prompt_number": 6
    },
    {
     "cell_type": "markdown",
     "metadata": {},
     "source": [
      "Example overflown list (i.e., over the page limit):"
     ]
    },
    {
     "cell_type": "code",
     "collapsed": false,
     "input": [
      "requests.get(domain + path, params = {'text': 'sql', 'city': '10001', 'page': 100}).json()"
     ],
     "language": "python",
     "metadata": {},
     "outputs": [
      {
       "metadata": {},
       "output_type": "pyout",
       "prompt_number": 7,
       "text": [
        "{u'count': 2306, u'firstDocument': 0, u'lastDocument': 0}"
       ]
      }
     ],
     "prompt_number": 7
    },
    {
     "cell_type": "code",
     "collapsed": false,
     "input": [
      "pd.DataFrame(data['resultItemList'])"
     ],
     "language": "python",
     "metadata": {},
     "outputs": [
      {
       "html": [
        "<div style=\"max-width:1500px;overflow:auto;\">\n",
        "<table border=\"1\" class=\"dataframe\">\n",
        "  <thead>\n",
        "    <tr style=\"text-align: right;\">\n",
        "      <th></th>\n",
        "      <th>company</th>\n",
        "      <th>date</th>\n",
        "      <th>detailUrl</th>\n",
        "      <th>jobTitle</th>\n",
        "      <th>location</th>\n",
        "    </tr>\n",
        "  </thead>\n",
        "  <tbody>\n",
        "    <tr>\n",
        "      <th>0</th>\n",
        "      <td>DCM Data Systems</td>\n",
        "      <td>2017-02-10</td>\n",
        "      <td>http://www.dice.com/job/result/10109811/DPCMSD...</td>\n",
        "      <td>Syncsort DMX : Big Data</td>\n",
        "      <td>Lansing, MI</td>\n",
        "    </tr>\n",
        "    <tr>\n",
        "      <th>1</th>\n",
        "      <td>Data Resource Group</td>\n",
        "      <td>2017-02-06</td>\n",
        "      <td>http://www.dice.com/job/result/10354693/827902...</td>\n",
        "      <td>Data Analyst</td>\n",
        "      <td>Beaverton, OR</td>\n",
        "    </tr>\n",
        "    <tr>\n",
        "      <th>2</th>\n",
        "      <td>Data Resource Technologies</td>\n",
        "      <td>2017-02-07</td>\n",
        "      <td>http://www.dice.com/job/result/10124769/SASE-G...</td>\n",
        "      <td>Secure Assets Data Analyst</td>\n",
        "      <td>Atlanta, GA</td>\n",
        "    </tr>\n",
        "    <tr>\n",
        "      <th>3</th>\n",
        "      <td>DCM Data Systems</td>\n",
        "      <td>2017-02-08</td>\n",
        "      <td>http://www.dice.com/job/result/10109811/DGCESE...</td>\n",
        "      <td>Software Engineer  - Big Data</td>\n",
        "      <td>San Ramon, CA</td>\n",
        "    </tr>\n",
        "    <tr>\n",
        "      <th>4</th>\n",
        "      <td>Projas Technologies, LLC</td>\n",
        "      <td>2017-02-11</td>\n",
        "      <td>http://www.dice.com/job/result/10126850/DATA-E...</td>\n",
        "      <td>Senior Data Engineer *** 200K or contract to h...</td>\n",
        "      <td>San Francisco, CA</td>\n",
        "    </tr>\n",
        "  </tbody>\n",
        "</table>\n",
        "</div>"
       ],
       "metadata": {},
       "output_type": "pyout",
       "prompt_number": 8,
       "text": [
        "                      company        date  \\\n",
        "0            DCM Data Systems  2017-02-10   \n",
        "1         Data Resource Group  2017-02-06   \n",
        "2  Data Resource Technologies  2017-02-07   \n",
        "3            DCM Data Systems  2017-02-08   \n",
        "4    Projas Technologies, LLC  2017-02-11   \n",
        "\n",
        "                                           detailUrl  \\\n",
        "0  http://www.dice.com/job/result/10109811/DPCMSD...   \n",
        "1  http://www.dice.com/job/result/10354693/827902...   \n",
        "2  http://www.dice.com/job/result/10124769/SASE-G...   \n",
        "3  http://www.dice.com/job/result/10109811/DGCESE...   \n",
        "4  http://www.dice.com/job/result/10126850/DATA-E...   \n",
        "\n",
        "                                            jobTitle           location  \n",
        "0                            Syncsort DMX : Big Data        Lansing, MI  \n",
        "1                                       Data Analyst      Beaverton, OR  \n",
        "2                         Secure Assets Data Analyst        Atlanta, GA  \n",
        "3                      Software Engineer  - Big Data      San Ramon, CA  \n",
        "4  Senior Data Engineer *** 200K or contract to h...  San Francisco, CA  "
       ]
      }
     ],
     "prompt_number": 8
    },
    {
     "cell_type": "code",
     "collapsed": false,
     "input": [
      "def get_job_listing(**kwargs):\n",
      "    parameters = kwargs\n",
      "    all_pages = False\n",
      "    if not parameters.has_key('pgcnt'):\n",
      "        parameters['pgcnt'] = 50\n",
      "    elif parameters['pgcnt'] > 50:\n",
      "        # That seems to be as much as they'll give\n",
      "        parameters['pgcnt'] = 50\n",
      "    if not parameters.has_key('page'):\n",
      "        parameters['page'] = 1\n",
      "        all_pages = True\n",
      "    df = pd.DataFrame()\n",
      "    df_, totalResults = _get_sub_listing(parameters)\n",
      "    resultsPerPage = parameters['pgcnt']\n",
      "    if len(df_) == 0:\n",
      "        return df\n",
      "    df = df.append(df_)\n",
      "    if all_pages:\n",
      "        percent = 0\n",
      "        max_page = (totalResults-1)/resultsPerPage + 1\n",
      "        print 'Total pages:', max_page\n",
      "        sys.stdout.flush()\n",
      "        for page in xrange(2, max_page + 1):\n",
      "            time.sleep(2)\n",
      "            parameters['page'] = page\n",
      "            df_ = _get_sub_listing(parameters)[0]\n",
      "            while(percent < page*100/max_page):\n",
      "                percent += 1\n",
      "                if percent % 10 == 0:\n",
      "                    sys.stdout.write(str(percent) + '%')\n",
      "                else:\n",
      "                    sys.stdout.write('.')\n",
      "                sys.stdout.flush()\n",
      "            if len(df_) > 0:\n",
      "                df = df.append(df_)\n",
      "            else:\n",
      "                return df.reset_index(drop = True)\n",
      "    return df.reset_index(drop = True)\n",
      "\n",
      "def _get_sub_listing(parameters):\n",
      "    root = 'http://service.dice.com'\n",
      "    path = '/api/rest/jobsearch/v1/simple.json'\n",
      "    response = requests.get(root + path, params=parameters)\n",
      "    data = response.json()\n",
      "    totalResults = data['count']\n",
      "    if data.has_key('resultItemList'):\n",
      "        df = pd.DataFrame(data['resultItemList'])\n",
      "        if 'date' in df.columns:\n",
      "            #df['date'] = df['date'].apply(lambda l: datetime.strptime(l, \"%Y-%m-%d\").date())\n",
      "            df['date'] = pd.to_datetime(df['date'])\n",
      "        return df, totalResults\n",
      "    return pd.DataFrame(), totalResults"
     ],
     "language": "python",
     "metadata": {},
     "outputs": [],
     "prompt_number": 13
    },
    {
     "cell_type": "code",
     "collapsed": false,
     "input": [
      "listing = get_job_listing(text = 'data', city = '10001', sort = 1)"
     ],
     "language": "python",
     "metadata": {},
     "outputs": [
      {
       "output_type": "stream",
       "stream": "stdout",
       "text": [
        "Total pages: 75\n"
       ]
      },
      {
       "output_type": "stream",
       "stream": "stdout",
       "text": [
        "."
       ]
      },
      {
       "output_type": "stream",
       "stream": "stdout",
       "text": [
        "."
       ]
      },
      {
       "output_type": "stream",
       "stream": "stdout",
       "text": [
        "."
       ]
      },
      {
       "output_type": "stream",
       "stream": "stdout",
       "text": [
        "."
       ]
      },
      {
       "output_type": "stream",
       "stream": "stdout",
       "text": [
        "."
       ]
      },
      {
       "output_type": "stream",
       "stream": "stdout",
       "text": [
        "."
       ]
      },
      {
       "output_type": "stream",
       "stream": "stdout",
       "text": [
        "."
       ]
      },
      {
       "output_type": "stream",
       "stream": "stdout",
       "text": [
        "."
       ]
      },
      {
       "output_type": "stream",
       "stream": "stdout",
       "text": [
        "."
       ]
      },
      {
       "output_type": "stream",
       "stream": "stdout",
       "text": [
        "10%"
       ]
      },
      {
       "output_type": "stream",
       "stream": "stdout",
       "text": [
        "."
       ]
      },
      {
       "output_type": "stream",
       "stream": "stdout",
       "text": [
        "."
       ]
      },
      {
       "output_type": "stream",
       "stream": "stdout",
       "text": [
        "."
       ]
      },
      {
       "output_type": "stream",
       "stream": "stdout",
       "text": [
        "."
       ]
      },
      {
       "output_type": "stream",
       "stream": "stdout",
       "text": [
        "."
       ]
      },
      {
       "output_type": "stream",
       "stream": "stdout",
       "text": [
        "."
       ]
      },
      {
       "output_type": "stream",
       "stream": "stdout",
       "text": [
        "."
       ]
      },
      {
       "output_type": "stream",
       "stream": "stdout",
       "text": [
        "."
       ]
      },
      {
       "output_type": "stream",
       "stream": "stdout",
       "text": [
        "."
       ]
      },
      {
       "output_type": "stream",
       "stream": "stdout",
       "text": [
        "20%"
       ]
      },
      {
       "output_type": "stream",
       "stream": "stdout",
       "text": [
        "."
       ]
      },
      {
       "output_type": "stream",
       "stream": "stdout",
       "text": [
        "."
       ]
      },
      {
       "output_type": "stream",
       "stream": "stdout",
       "text": [
        "."
       ]
      },
      {
       "output_type": "stream",
       "stream": "stdout",
       "text": [
        "."
       ]
      },
      {
       "output_type": "stream",
       "stream": "stdout",
       "text": [
        "."
       ]
      },
      {
       "output_type": "stream",
       "stream": "stdout",
       "text": [
        "."
       ]
      },
      {
       "output_type": "stream",
       "stream": "stdout",
       "text": [
        "."
       ]
      },
      {
       "output_type": "stream",
       "stream": "stdout",
       "text": [
        "."
       ]
      },
      {
       "output_type": "stream",
       "stream": "stdout",
       "text": [
        "."
       ]
      },
      {
       "output_type": "stream",
       "stream": "stdout",
       "text": [
        "30%"
       ]
      },
      {
       "output_type": "stream",
       "stream": "stdout",
       "text": [
        "."
       ]
      },
      {
       "output_type": "stream",
       "stream": "stdout",
       "text": [
        "."
       ]
      },
      {
       "output_type": "stream",
       "stream": "stdout",
       "text": [
        "."
       ]
      },
      {
       "output_type": "stream",
       "stream": "stdout",
       "text": [
        "."
       ]
      },
      {
       "output_type": "stream",
       "stream": "stdout",
       "text": [
        "."
       ]
      },
      {
       "output_type": "stream",
       "stream": "stdout",
       "text": [
        "."
       ]
      },
      {
       "output_type": "stream",
       "stream": "stdout",
       "text": [
        "."
       ]
      },
      {
       "output_type": "stream",
       "stream": "stdout",
       "text": [
        "."
       ]
      },
      {
       "output_type": "stream",
       "stream": "stdout",
       "text": [
        "."
       ]
      },
      {
       "output_type": "stream",
       "stream": "stdout",
       "text": [
        "40%"
       ]
      },
      {
       "output_type": "stream",
       "stream": "stdout",
       "text": [
        "."
       ]
      },
      {
       "output_type": "stream",
       "stream": "stdout",
       "text": [
        "."
       ]
      },
      {
       "output_type": "stream",
       "stream": "stdout",
       "text": [
        "."
       ]
      },
      {
       "output_type": "stream",
       "stream": "stdout",
       "text": [
        "."
       ]
      },
      {
       "output_type": "stream",
       "stream": "stdout",
       "text": [
        "."
       ]
      },
      {
       "output_type": "stream",
       "stream": "stdout",
       "text": [
        "."
       ]
      },
      {
       "output_type": "stream",
       "stream": "stdout",
       "text": [
        "."
       ]
      },
      {
       "output_type": "stream",
       "stream": "stdout",
       "text": [
        "."
       ]
      },
      {
       "output_type": "stream",
       "stream": "stdout",
       "text": [
        "."
       ]
      },
      {
       "output_type": "stream",
       "stream": "stdout",
       "text": [
        "50%"
       ]
      },
      {
       "output_type": "stream",
       "stream": "stdout",
       "text": [
        "."
       ]
      },
      {
       "output_type": "stream",
       "stream": "stdout",
       "text": [
        "."
       ]
      },
      {
       "output_type": "stream",
       "stream": "stdout",
       "text": [
        "."
       ]
      },
      {
       "output_type": "stream",
       "stream": "stdout",
       "text": [
        "."
       ]
      },
      {
       "output_type": "stream",
       "stream": "stdout",
       "text": [
        "."
       ]
      },
      {
       "output_type": "stream",
       "stream": "stdout",
       "text": [
        "."
       ]
      },
      {
       "output_type": "stream",
       "stream": "stdout",
       "text": [
        "."
       ]
      },
      {
       "output_type": "stream",
       "stream": "stdout",
       "text": [
        "."
       ]
      },
      {
       "output_type": "stream",
       "stream": "stdout",
       "text": [
        "."
       ]
      },
      {
       "output_type": "stream",
       "stream": "stdout",
       "text": [
        "60%"
       ]
      },
      {
       "output_type": "stream",
       "stream": "stdout",
       "text": [
        "."
       ]
      },
      {
       "output_type": "stream",
       "stream": "stdout",
       "text": [
        "."
       ]
      },
      {
       "output_type": "stream",
       "stream": "stdout",
       "text": [
        "."
       ]
      },
      {
       "output_type": "stream",
       "stream": "stdout",
       "text": [
        "."
       ]
      },
      {
       "output_type": "stream",
       "stream": "stdout",
       "text": [
        "."
       ]
      },
      {
       "output_type": "stream",
       "stream": "stdout",
       "text": [
        "."
       ]
      },
      {
       "output_type": "stream",
       "stream": "stdout",
       "text": [
        "."
       ]
      },
      {
       "output_type": "stream",
       "stream": "stdout",
       "text": [
        "."
       ]
      },
      {
       "output_type": "stream",
       "stream": "stdout",
       "text": [
        "."
       ]
      },
      {
       "output_type": "stream",
       "stream": "stdout",
       "text": [
        "70%"
       ]
      },
      {
       "output_type": "stream",
       "stream": "stdout",
       "text": [
        "."
       ]
      },
      {
       "output_type": "stream",
       "stream": "stdout",
       "text": [
        "."
       ]
      },
      {
       "output_type": "stream",
       "stream": "stdout",
       "text": [
        "."
       ]
      },
      {
       "output_type": "stream",
       "stream": "stdout",
       "text": [
        "."
       ]
      },
      {
       "output_type": "stream",
       "stream": "stdout",
       "text": [
        "."
       ]
      },
      {
       "output_type": "stream",
       "stream": "stdout",
       "text": [
        "."
       ]
      },
      {
       "output_type": "stream",
       "stream": "stdout",
       "text": [
        "."
       ]
      },
      {
       "output_type": "stream",
       "stream": "stdout",
       "text": [
        "."
       ]
      },
      {
       "output_type": "stream",
       "stream": "stdout",
       "text": [
        "."
       ]
      },
      {
       "output_type": "stream",
       "stream": "stdout",
       "text": [
        "80%"
       ]
      },
      {
       "output_type": "stream",
       "stream": "stdout",
       "text": [
        "."
       ]
      },
      {
       "output_type": "stream",
       "stream": "stdout",
       "text": [
        "."
       ]
      },
      {
       "output_type": "stream",
       "stream": "stdout",
       "text": [
        "."
       ]
      },
      {
       "output_type": "stream",
       "stream": "stdout",
       "text": [
        "."
       ]
      },
      {
       "output_type": "stream",
       "stream": "stdout",
       "text": [
        "."
       ]
      },
      {
       "output_type": "stream",
       "stream": "stdout",
       "text": [
        "."
       ]
      },
      {
       "output_type": "stream",
       "stream": "stdout",
       "text": [
        "."
       ]
      },
      {
       "output_type": "stream",
       "stream": "stdout",
       "text": [
        "."
       ]
      },
      {
       "output_type": "stream",
       "stream": "stdout",
       "text": [
        "."
       ]
      },
      {
       "output_type": "stream",
       "stream": "stdout",
       "text": [
        "90%"
       ]
      },
      {
       "output_type": "stream",
       "stream": "stdout",
       "text": [
        "."
       ]
      },
      {
       "output_type": "stream",
       "stream": "stdout",
       "text": [
        "."
       ]
      },
      {
       "output_type": "stream",
       "stream": "stdout",
       "text": [
        "."
       ]
      },
      {
       "output_type": "stream",
       "stream": "stdout",
       "text": [
        "."
       ]
      },
      {
       "output_type": "stream",
       "stream": "stdout",
       "text": [
        "."
       ]
      },
      {
       "output_type": "stream",
       "stream": "stdout",
       "text": [
        "."
       ]
      },
      {
       "output_type": "stream",
       "stream": "stdout",
       "text": [
        "."
       ]
      },
      {
       "output_type": "stream",
       "stream": "stdout",
       "text": [
        "."
       ]
      },
      {
       "output_type": "stream",
       "stream": "stdout",
       "text": [
        "."
       ]
      },
      {
       "output_type": "stream",
       "stream": "stdout",
       "text": [
        "100%"
       ]
      }
     ],
     "prompt_number": 14
    },
    {
     "cell_type": "code",
     "collapsed": false,
     "input": [
      "listing.dtypes"
     ],
     "language": "python",
     "metadata": {},
     "outputs": [
      {
       "metadata": {},
       "output_type": "pyout",
       "prompt_number": 15,
       "text": [
        "company              object\n",
        "date         datetime64[ns]\n",
        "detailUrl            object\n",
        "jobTitle             object\n",
        "location             object\n",
        "dtype: object"
       ]
      }
     ],
     "prompt_number": 15
    },
    {
     "cell_type": "code",
     "collapsed": false,
     "input": [
      "listing.describe()"
     ],
     "language": "python",
     "metadata": {},
     "outputs": [
      {
       "html": [
        "<div style=\"max-width:1500px;overflow:auto;\">\n",
        "<table border=\"1\" class=\"dataframe\">\n",
        "  <thead>\n",
        "    <tr style=\"text-align: right;\">\n",
        "      <th></th>\n",
        "      <th>company</th>\n",
        "      <th>date</th>\n",
        "      <th>detailUrl</th>\n",
        "      <th>jobTitle</th>\n",
        "      <th>location</th>\n",
        "    </tr>\n",
        "  </thead>\n",
        "  <tbody>\n",
        "    <tr>\n",
        "      <th>count</th>\n",
        "      <td>3709</td>\n",
        "      <td>3709</td>\n",
        "      <td>3709</td>\n",
        "      <td>3709</td>\n",
        "      <td>3709</td>\n",
        "    </tr>\n",
        "    <tr>\n",
        "      <th>unique</th>\n",
        "      <td>1046</td>\n",
        "      <td>28</td>\n",
        "      <td>3639</td>\n",
        "      <td>3049</td>\n",
        "      <td>253</td>\n",
        "    </tr>\n",
        "    <tr>\n",
        "      <th>top</th>\n",
        "      <td>CyberCoders</td>\n",
        "      <td>2017-02-11 00:00:00</td>\n",
        "      <td>http://www.dice.com/job/result/10225460/855344...</td>\n",
        "      <td>Business Analyst</td>\n",
        "      <td>New York, NY</td>\n",
        "    </tr>\n",
        "    <tr>\n",
        "      <th>freq</th>\n",
        "      <td>153</td>\n",
        "      <td>1211</td>\n",
        "      <td>2</td>\n",
        "      <td>26</td>\n",
        "      <td>1451</td>\n",
        "    </tr>\n",
        "    <tr>\n",
        "      <th>first</th>\n",
        "      <td>NaN</td>\n",
        "      <td>2017-01-12 00:00:00</td>\n",
        "      <td>NaN</td>\n",
        "      <td>NaN</td>\n",
        "      <td>NaN</td>\n",
        "    </tr>\n",
        "    <tr>\n",
        "      <th>last</th>\n",
        "      <td>NaN</td>\n",
        "      <td>2017-02-11 00:00:00</td>\n",
        "      <td>NaN</td>\n",
        "      <td>NaN</td>\n",
        "      <td>NaN</td>\n",
        "    </tr>\n",
        "  </tbody>\n",
        "</table>\n",
        "</div>"
       ],
       "metadata": {},
       "output_type": "pyout",
       "prompt_number": 16,
       "text": [
        "            company                 date  \\\n",
        "count          3709                 3709   \n",
        "unique         1046                   28   \n",
        "top     CyberCoders  2017-02-11 00:00:00   \n",
        "freq            153                 1211   \n",
        "first           NaN  2017-01-12 00:00:00   \n",
        "last            NaN  2017-02-11 00:00:00   \n",
        "\n",
        "                                                detailUrl          jobTitle  \\\n",
        "count                                                3709              3709   \n",
        "unique                                               3639              3049   \n",
        "top     http://www.dice.com/job/result/10225460/855344...  Business Analyst   \n",
        "freq                                                    2                26   \n",
        "first                                                 NaN               NaN   \n",
        "last                                                  NaN               NaN   \n",
        "\n",
        "            location  \n",
        "count           3709  \n",
        "unique           253  \n",
        "top     New York, NY  \n",
        "freq            1451  \n",
        "first            NaN  \n",
        "last             NaN  "
       ]
      }
     ],
     "prompt_number": 16
    },
    {
     "cell_type": "code",
     "collapsed": false,
     "input": [
      "byCompany = listing.groupby('company')"
     ],
     "language": "python",
     "metadata": {},
     "outputs": [],
     "prompt_number": 17
    },
    {
     "cell_type": "code",
     "collapsed": false,
     "input": [
      "byCompany['company'].agg('count').sort_values(ascending=False)[0:20]"
     ],
     "language": "python",
     "metadata": {},
     "outputs": [
      {
       "metadata": {},
       "output_type": "pyout",
       "prompt_number": 18,
       "text": [
        "company\n",
        "CyberCoders                       153\n",
        "Robert Half Technology             76\n",
        "Kforce Inc.                        68\n",
        "Verizon                            56\n",
        "Deloitte                           54\n",
        "Gambit Technologies                51\n",
        "Software Guidance & Assistance     41\n",
        "Bloomberg L.P.                     35\n",
        "Princeton Information Ltd          33\n",
        "Mitchell Martin, Inc.              31\n",
        "UBS                                31\n",
        "TEKsystems, Inc.                   31\n",
        "eclaro                             31\n",
        "The Judge Group                    29\n",
        "U.S. Tech Solutions Inc.           29\n",
        "Cognizant Technology Solutions     28\n",
        "Synechron Inc.                     26\n",
        "Net2Source Inc.                    25\n",
        "Hyatt Leader                       24\n",
        "Collabera                          23\n",
        "Name: company, dtype: int64"
       ]
      }
     ],
     "prompt_number": 18
    },
    {
     "cell_type": "code",
     "collapsed": false,
     "input": [
      "plt.hist(listing['date'].apply(lambda l: l.toordinal()) - date(1970, 1, 1).toordinal() - time.time()/24/60/60, bins=35)"
     ],
     "language": "python",
     "metadata": {},
     "outputs": [
      {
       "metadata": {},
       "output_type": "pyout",
       "prompt_number": 19,
       "text": [
        "(array([  4.00000000e+01,   2.40000000e+01,   0.00000000e+00,\n",
        "          1.00000000e+00,   2.10000000e+01,   2.00000000e+01,\n",
        "          0.00000000e+00,   3.30000000e+01,   2.70000000e+01,\n",
        "          4.80000000e+01,   0.00000000e+00,   6.00000000e+00,\n",
        "          4.50000000e+01,   0.00000000e+00,   4.80000000e+01,\n",
        "          4.60000000e+01,   5.60000000e+01,   6.80000000e+01,\n",
        "          0.00000000e+00,   4.00000000e+00,   0.00000000e+00,\n",
        "          6.90000000e+01,   6.50000000e+01,   1.20000000e+02,\n",
        "          7.80000000e+01,   9.50000000e+01,   8.00000000e+00,\n",
        "          0.00000000e+00,   1.00000000e+01,   1.47000000e+02,\n",
        "          1.47000000e+02,   2.40000000e+02,   2.91000000e+02,\n",
        "          7.41000000e+02,   1.21100000e+03]),\n",
        " array([-31.21126356, -30.3541207 , -29.49697784, -28.63983498,\n",
        "        -27.78269213, -26.92554927, -26.06840641, -25.21126356,\n",
        "        -24.3541207 , -23.49697784, -22.63983498, -21.78269213,\n",
        "        -20.92554927, -20.06840641, -19.21126356, -18.3541207 ,\n",
        "        -17.49697784, -16.63983498, -15.78269213, -14.92554927,\n",
        "        -14.06840641, -13.21126356, -12.3541207 , -11.49697784,\n",
        "        -10.63983498,  -9.78269213,  -8.92554927,  -8.06840641,\n",
        "         -7.21126356,  -6.3541207 ,  -5.49697784,  -4.63983498,\n",
        "         -3.78269213,  -2.92554927,  -2.06840641,  -1.21126356]),\n",
        " <a list of 35 Patch objects>)"
       ]
      },
      {
       "metadata": {},
       "output_type": "display_data",
       "png": "[encoded data removed]",
       "text": [
        "<matplotlib.figure.Figure at 0x7f7101266bd0>"
       ]
      }
     ],
     "prompt_number": 19
    },
    {
     "cell_type": "code",
     "collapsed": false,
     "input": [
      "dates = listing.groupby('date')['date'].count()\n",
      "plt.bar(dates.index, dates)"
     ],
     "language": "python",
     "metadata": {},
     "outputs": [
      {
       "metadata": {},
       "output_type": "pyout",
       "prompt_number": 20,
       "text": [
        "<Container object of 28 artists>"
       ]
      },
      {
       "metadata": {},
       "output_type": "display_data",
       "png": "[encoded data removed]",
       "text": [
        "<matplotlib.figure.Figure at 0x7f7101087b90>"
       ]
      }
     ],
     "prompt_number": 20
    },
    {
     "cell_type": "code",
     "collapsed": false,
     "input": [
      "for s in listing.loc[listing.duplicated([col for col in listing.columns if col != 'detailUrl'], keep=False),:].sort_values('company')['detailUrl']:\n",
      "    print s"
     ],
     "language": "python",
     "metadata": {},
     "outputs": [
      {
       "output_type": "stream",
       "stream": "stdout",
       "text": [
        "http://www.dice.com/job/result/10123488/16-01014?src=19\n",
        "http://www.dice.com/job/result/10123488/16-01303?src=19\n",
        "http://www.dice.com/job/result/10123488/17-00178?src=19\n",
        "http://www.dice.com/job/result/10123488/16-01303?src=19\n",
        "http://www.dice.com/job/result/10123488/16-01014?src=19\n",
        "http://www.dice.com/job/result/10123488/17-00178?src=19\n",
        "http://www.dice.com/job/result/10201176/PM_Warehouse?src=19\n",
        "http://www.dice.com/job/result/10201176/PMIAM?src=19\n",
        "http://www.dice.com/job/result/analytic/TV517-22399?src=19\n",
        "http://www.dice.com/job/result/analytic/TV517-22399?src=19\n",
        "http://www.dice.com/job/result/10441603/861407?src=19\n",
        "http://www.dice.com/job/result/10441603/861407?src=19\n",
        "http://www.dice.com/job/result/10340096/-2-417BM?src=19\n",
        "http://www.dice.com/job/result/10340096/763258?src=19\n",
        "http://www.dice.com/job/result/10340096/010615?src=19\n",
        "http://www.dice.com/job/result/10340096/763258?src=19\n",
        "http://www.dice.com/job/result/10340096/-2-417BM?src=19\n",
        "http://www.dice.com/job/result/10340096/bm072616?src=19\n",
        "http://www.dice.com/job/result/10340096/010615?src=19\n",
        "http://www.dice.com/job/result/10340096/bm072616?src=19\n",
        "http://www.dice.com/job/result/10207147/BHJOB5917_3427B?src=19\n",
        "http://www.dice.com/job/result/10207147/BHJOB5917_3427?src=19\n",
        "http://www.dice.com/job/result/90906950/806904?src=19\n",
        "http://www.dice.com/job/result/90906950/806904?src=19\n",
        "http://www.dice.com/job/result/10271481/867850?src=19\n",
        "http://www.dice.com/job/result/10271481/867850?src=19\n",
        "http://www.dice.com/job/result/10114287/JPH-Helpdesk?src=19\n",
        "http://www.dice.com/job/result/10114287/JPH-Helpdesk?src=19\n",
        "http://www.dice.com/job/result/RTX191b1e/5000179394206-313?src=19\n",
        "http://www.dice.com/job/result/RTX191b1e/5000179394206-207?src=19\n",
        "http://www.dice.com/job/result/birlnj/628452?src=19\n",
        "http://www.dice.com/job/result/birlnj/628452?src=19\n",
        "http://www.dice.com/job/result/10199470/00163m?src=19\n",
        "http://www.dice.com/job/result/10199470/00163m?src=19\n",
        "http://www.dice.com/job/result/90857510/803809?src=19\n",
        "http://www.dice.com/job/result/90857510/803809?src=19\n",
        "http://www.dice.com/job/result/90857510/766731?src=19\n",
        "http://www.dice.com/job/result/90857510/764931?src=19\n",
        "http://www.dice.com/job/result/cdevelop/SP17-00025?src=19\n",
        "http://www.dice.com/job/result/cdevelop/SP17-00025?src=19\n",
        "http://www.dice.com/job/result/10119317c/4844066?src=19\n",
        "http://www.dice.com/job/result/10119317c/4844062?src=19\n",
        "http://www.dice.com/job/result/aces/00021330155?src=19\n",
        "http://www.dice.com/job/result/aces/000210238728?src=19\n",
        "http://www.dice.com/job/result/aces/000210238720?src=19\n",
        "http://www.dice.com/job/result/aces/00021023876?src=19\n",
        "http://www.dice.com/job/result/aces/00021330158?src=19\n",
        "http://www.dice.com/job/result/aces/000213301510?src=19\n",
        "http://www.dice.com/job/result/aces/00021330154?src=19\n",
        "http://www.dice.com/job/result/aces/00021330157?src=19\n",
        "http://www.dice.com/job/result/aces/00021330156?src=19\n",
        "http://www.dice.com/job/result/aces/00021330153?src=19\n",
        "http://www.dice.com/job/result/aces/00021330159?src=19\n",
        "http://www.dice.com/job/result/aces/00021330152?src=19\n",
        "http://www.dice.com/job/result/compun/851313?src=19\n",
        "http://www.dice.com/job/result/compun/851313?src=19\n",
        "http://www.dice.com/job/result/cdatar/001?src=19\n",
        "http://www.dice.com/job/result/cdatar/703139?src=19\n",
        "http://www.dice.com/job/result/cdatar/703139?src=19\n",
        "http://www.dice.com/job/result/cdatar/867672?src=19\n",
        "http://www.dice.com/job/result/cdatar/867672?src=19\n",
        "http://www.dice.com/job/result/cdatar/442815?src=19\n",
        "http://www.dice.com/job/result/cdatar/442815?src=19\n",
        "http://www.dice.com/job/result/cdatar/001?src=19\n",
        "http://www.dice.com/job/result/10135926/4748?src=19\n",
        "http://www.dice.com/job/result/10135926/3771?src=19\n",
        "http://www.dice.com/job/result/10135926/4647?src=19\n",
        "http://www.dice.com/job/result/10135926/3772?src=19\n",
        "http://www.dice.com/job/result/10117531/17-00437_VK?src=19\n",
        "http://www.dice.com/job/result/10117531/17-00437_VK?src=19\n",
        "http://www.dice.com/job/result/cybercod/SBS-1285980226?src=19\n",
        "http://www.dice.com/job/result/cybercod/SBS-134231030?src=19\n",
        "http://www.dice.com/job/result/cybercod/RK3-134071735?src=19\n",
        "http://www.dice.com/job/result/cybercod/ES1-13483705?src=19\n",
        "http://www.dice.com/job/result/cybercod/RS2-13480148?src=19\n",
        "http://www.dice.com/job/result/cybercod/RK3-133598759?src=19\n",
        "http://www.dice.com/job/result/cybercod/MM15-134278826?src=19\n",
        "http://www.dice.com/job/result/cybercod/SBS-134441222?src=19\n",
        "http://www.dice.com/job/result/cybercod/MO1-133055579?src=19\n",
        "http://www.dice.com/job/result/cybercod/RS2-13481315?src=19\n",
        "http://www.dice.com/job/result/cybercod/RK3-129124652?src=19\n",
        "http://www.dice.com/job/result/cybercod/ES1-133964038?src=19\n",
        "http://www.dice.com/job/result/cybercod/SBS-134441822?src=19\n",
        "http://www.dice.com/job/result/cybercod/AG2-133990037?src=19\n",
        "http://www.dice.com/job/result/cybercod/RK3-1307611188?src=19\n",
        "http://www.dice.com/job/result/cybercod/AG2-13484144?src=19\n",
        "http://www.dice.com/job/result/cybercod/MO1-132902244?src=19\n",
        "http://www.dice.com/job/result/cybercod/MM15-13490213?src=19\n",
        "http://www.dice.com/job/result/10110877/bi6?src=19\n",
        "http://www.dice.com/job/result/10110877/bi6?src=19\n",
        "http://www.dice.com/job/result/10530199/859564?src=19\n",
        "http://www.dice.com/job/result/10530199/706533?src=19\n",
        "http://www.dice.com/job/result/10530199/859564?src=19\n",
        "http://www.dice.com/job/result/10530199/706533?src=19\n",
        "http://www.dice.com/job/result/10530199/783551?src=19\n",
        "http://www.dice.com/job/result/10530199/783551?src=19\n",
        "http://www.dice.com/job/result/10106525/24153232000006082?src=19\n",
        "http://www.dice.com/job/result/10106525/24030992000005652?src=19\n",
        "http://www.dice.com/job/result/10106525/24030992000006082?src=19\n",
        "http://www.dice.com/job/result/10106525/24153232000005652?src=19\n",
        "http://www.dice.com/job/result/RTL106108/608721?src=19\n",
        "http://www.dice.com/job/result/RTL106108/608721?src=19\n",
        "http://www.dice.com/job/result/fulcruml/950737?src=19\n",
        "http://www.dice.com/job/result/fulcruml/950737?src=19\n",
        "http://www.dice.com/job/result/10294672/JD_MSG?src=19\n",
        "http://www.dice.com/job/result/10294672/JD_SSE?src=19\n",
        "http://www.dice.com/job/result/10315211/862214?src=19\n",
        "http://www.dice.com/job/result/10315211/862214?src=19\n",
        "http://www.dice.com/job/result/RTX17008c/oF9C3fwd?src=19\n",
        "http://www.dice.com/job/result/RTX17008c/oq0S3fw5?src=19\n",
        "http://www.dice.com/job/result/esi/JA_BH41015-147?src=19\n",
        "http://www.dice.com/job/result/esi/JA_BH41015-721?src=19\n",
        "http://www.dice.com/job/result/hyattldr/SL011117?src=19\n",
        "http://www.dice.com/job/result/hyattldr/JN011017?src=19\n",
        "http://www.dice.com/job/result/10221497/845632?src=19\n",
        "http://www.dice.com/job/result/10221497/845632?src=19\n",
        "http://www.dice.com/job/result/infnj003/861947?src=19\n",
        "http://www.dice.com/job/result/infnj003/861947?src=19\n",
        "http://www.dice.com/job/result/10204393/19904BR?src=19\n",
        "http://www.dice.com/job/result/10204393/20001BR?src=19\n",
        "http://www.dice.com/job/result/10379290/702938?src=19\n",
        "http://www.dice.com/job/result/10379290/691487?src=19\n",
        "http://www.dice.com/job/result/10379290/702938?src=19\n",
        "http://www.dice.com/job/result/10379290/691487?src=19\n",
        "http://www.dice.com/job/result/10225460/855344?src=19\n",
        "http://www.dice.com/job/result/10225460/652484?src=19\n",
        "http://www.dice.com/job/result/10225460/855344?src=19\n",
        "http://www.dice.com/job/result/10225460/861236?src=19\n",
        "http://www.dice.com/job/result/10225460/861236?src=19\n",
        "http://www.dice.com/job/result/10225460/652484?src=19\n",
        "http://www.dice.com/job/result/10411276/850669?src=19\n",
        "http://www.dice.com/job/result/10411276/RG_MDM?src=19\n",
        "http://www.dice.com/job/result/10411276/871975?src=19\n",
        "http://www.dice.com/job/result/10411276/850669?src=19\n",
        "http://www.dice.com/job/result/kforcecx/ITAQG1599986?src=19\n",
        "http://www.dice.com/job/result/kforcecx/ITAQG1599978?src=19\n",
        "http://www.dice.com/job/result/kforcecx/ITAQG1586019?src=19\n",
        "http://www.dice.com/job/result/kforcecx/ITAQG1586029?src=19\n",
        "http://www.dice.com/job/result/kforcecx/ITAQG1599969?src=19\n",
        "http://www.dice.com/job/result/kforcecx/ITAQG1599632?src=19\n",
        "http://www.dice.com/job/result/kforcecx/ITAQG1599638?src=19\n",
        "http://www.dice.com/job/result/kforcecx/ITAQG1601500?src=19\n",
        "http://www.dice.com/job/result/kforcecx/ITAQG1599639?src=19\n",
        "http://www.dice.com/job/result/kforcecx/ITAQG1587070?src=19\n",
        "http://www.dice.com/job/result/kforcecx/ITAQG1601496?src=19\n",
        "http://www.dice.com/job/result/kforcecx/ITAQG1601498?src=19\n",
        "http://www.dice.com/job/result/kforcecx/ITAQG1599621?src=19\n",
        "http://www.dice.com/job/result/kforcecx/ITAQG1599636?src=19\n",
        "http://www.dice.com/job/result/10121957/2862?src=19\n",
        "http://www.dice.com/job/result/10121957/2670?src=19\n",
        "http://www.dice.com/job/result/10121957/2598?src=19\n",
        "http://www.dice.com/job/result/10333482/862273?src=19\n",
        "http://www.dice.com/job/result/10333482/862273?src=19\n",
        "http://www.dice.com/job/result/lloydmel/NW2117?src=19\n",
        "http://www.dice.com/job/result/lloydmel/NW2117?src=19\n",
        "http://www.dice.com/job/result/10112696/845599?src=19\n",
        "http://www.dice.com/job/result/10112696/845599?src=19\n",
        "http://www.dice.com/job/result/90939747/819253?src=19\n",
        "http://www.dice.com/job/result/90939747/819253?src=19\n",
        "http://www.dice.com/job/result/mategr/9-21546-SS?src=19\n",
        "http://www.dice.com/job/result/mategr/9-21546-SS?src=19\n",
        "http://www.dice.com/job/result/mitchmar/PKS12?src=19\n",
        "http://www.dice.com/job/result/mitchmar/864990?src=19\n",
        "http://www.dice.com/job/result/mitchmar/PKS12?src=19\n",
        "http://www.dice.com/job/result/mitchmar/864990?src=19\n",
        "http://www.dice.com/job/result/misiny1/17-00536?src=19\n",
        "http://www.dice.com/job/result/misiny1/17-00536?src=19\n",
        "http://www.dice.com/job/result/10271304/SIEM@QRadar?src=19\n",
        "http://www.dice.com/job/result/10271304/SIEM@QRadar?src=19\n",
        "http://www.dice.com/job/result/10216365/javatibco001?src=19\n",
        "http://www.dice.com/job/result/10216365/javatibco001?src=19\n",
        "http://www.dice.com/job/result/opensyst/31902?src=19\n",
        "http://www.dice.com/job/result/opensyst/31902?src=19\n",
        "http://www.dice.com/job/result/10334542/494531?src=19\n",
        "http://www.dice.com/job/result/10334542/494531?src=19\n",
        "http://www.dice.com/job/result/10307732/867219?src=19\n",
        "http://www.dice.com/job/result/10307732/867219?src=19\n",
        "http://www.dice.com/job/result/cxprince/17-01454?src=19\n",
        "http://www.dice.com/job/result/cxprince/17-01398?src=19\n",
        "http://www.dice.com/job/result/RTL171176/EB-1614731976?src=19\n",
        "http://www.dice.com/job/result/RTL171176/EB-1614731976?src=19\n",
        "http://www.dice.com/job/result/advlearn/239528?src=19\n",
        "http://www.dice.com/job/result/advlearn/239639?src=19\n",
        "http://www.dice.com/job/result/10155161/860631?src=19\n",
        "http://www.dice.com/job/result/10155161/860631?src=19\n",
        "http://www.dice.com/job/result/rhalfint/02710-9500334407?src=19\n",
        "http://www.dice.com/job/result/rhalfint/03720-0008984424?src=19\n",
        "http://www.dice.com/job/result/rhalfint/02710-9500334426?src=19\n",
        "http://www.dice.com/job/result/rhalfint/02710-9500334422?src=19\n",
        "http://www.dice.com/job/result/rhalfint/03720-0008984376?src=19\n",
        "http://www.dice.com/job/result/RTX14fecf/HP.NA.RATINGS079?src=19\n",
        "http://www.dice.com/job/result/RTX14fecf/221168?src=19\n",
        "http://www.dice.com/job/result/sgainc/17-00522?src=19\n",
        "http://www.dice.com/job/result/sgainc/17-00321?src=19\n",
        "http://www.dice.com/job/result/RTX17ee46/828692?src=19\n",
        "http://www.dice.com/job/result/RTX17ee46/812331?src=19\n",
        "http://www.dice.com/job/result/RTX17ee46/812331?src=19\n",
        "http://www.dice.com/job/result/RTX17ee46/828692?src=19\n",
        "http://www.dice.com/job/result/10515013/783803?src=19\n",
        "http://www.dice.com/job/result/10515013/783803?src=19\n",
        "http://www.dice.com/job/result/sumnj001/SWT_SA25_Jul_16?src=19\n",
        "http://www.dice.com/job/result/sumnj001/SWT_SA25_Jul_16?src=19\n",
        "http://www.dice.com/job/result/90925694/WD-104?src=19\n",
        "http://www.dice.com/job/result/90925694/WD-104?src=19\n",
        "http://www.dice.com/job/result/techlknj/17-00010?src=19\n",
        "http://www.dice.com/job/result/techlknj/17-00010?src=19\n",
        "http://www.dice.com/job/result/forumper/624886?src=19\n",
        "http://www.dice.com/job/result/forumper/624886?src=19\n",
        "http://www.dice.com/job/result/10514056/BBBH14137-731?src=19\n",
        "http://www.dice.com/job/result/10514056/BBBH14137-463?src=19\n",
        "http://www.dice.com/job/result/10259091/145040BR?src=19\n",
        "http://www.dice.com/job/result/10259091/145039BR?src=19\n",
        "http://www.dice.com/job/result/10259091/145038BR?src=19\n",
        "http://www.dice.com/job/result/10259091/145033BR?src=19\n",
        "http://www.dice.com/job/result/10120942A/121890?src=19\n",
        "http://www.dice.com/job/result/10120942A/122275?src=19\n",
        "http://www.dice.com/job/result/10241294/446271-1A?src=19\n",
        "http://www.dice.com/job/result/10241294/443555-1A?src=19\n",
        "http://www.dice.com/job/result/10241294/444757-1B?src=19\n",
        "http://www.dice.com/job/result/10241294/441139-1B?src=19\n",
        "http://www.dice.com/job/result/10241294/441235-1A?src=19\n",
        "http://www.dice.com/job/result/10241294/441235-1A?src=19\n",
        "http://www.dice.com/job/result/10241294/446421-1A?src=19\n",
        "http://www.dice.com/job/result/10241294/441134-1B?src=19\n",
        "http://www.dice.com/job/result/10241294/446421-1A?src=19\n",
        "http://www.dice.com/job/result/10241294/443555-1A?src=19\n",
        "http://www.dice.com/job/result/10241294/441962-1A?src=19\n",
        "http://www.dice.com/job/result/10241294/441962-1A?src=19\n",
        "http://www.dice.com/job/result/10241294/446271-1A?src=19\n",
        "http://www.dice.com/job/result/10241294/444757-1B?src=19\n",
        "http://www.dice.com/job/result/10241294/439793-1A?src=19\n",
        "http://www.dice.com/job/result/10120771/BBBH68876-861?src=19\n",
        "http://www.dice.com/job/result/10120771/BBBH68876-468?src=19\n",
        "http://www.dice.com/job/result/10356180/VEAKPython?src=19\n",
        "http://www.dice.com/job/result/10356180/VEAKPython?src=19\n",
        "http://www.dice.com/job/result/RTX1bcf47/866606?src=19\n",
        "http://www.dice.com/job/result/RTX1bcf47/847880?src=19\n",
        "http://www.dice.com/job/result/RTX1bcf47/847890?src=19\n",
        "http://www.dice.com/job/result/RTX1bcf47/847893?src=19\n",
        "http://www.dice.com/job/result/RTX1bcf47/847871?src=19\n",
        "http://www.dice.com/job/result/RTX1bcf47/866606?src=19\n",
        "http://www.dice.com/job/result/10110759/859827?src=19\n",
        "http://www.dice.com/job/result/10110759/857084?src=19\n",
        "http://www.dice.com/job/result/ndi/16-07733?src=19\n",
        "http://www.dice.com/job/result/ndi/16-07733?src=19\n",
        "http://www.dice.com/job/result/90833520/Arn_402?src=19\n",
        "http://www.dice.com/job/result/90833520/Arn_402?src=19\n",
        "http://www.dice.com/job/result/cxcrstff/863541?src=19\n",
        "http://www.dice.com/job/result/cxcrstff/863541?src=19\n"
       ]
      }
     ],
     "prompt_number": 21
    },
    {
     "cell_type": "markdown",
     "metadata": {},
     "source": [
      "Looks like some results are duplicates, while others are not. Can only tell by actually visiting the pages."
     ]
    },
    {
     "cell_type": "code",
     "collapsed": false,
     "input": [],
     "language": "python",
     "metadata": {},
     "outputs": []
    }
   ],
   "metadata": {}
  }
 ]
}