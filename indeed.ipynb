{
 "metadata": {
  "name": "",
  "signature": "sha256:4dcf744ab6ca72219765714055e07e4eb3b36294ea8222f631ed7cbc813857b6"
 },
 "nbformat": 3,
 "nbformat_minor": 0,
 "worksheets": [
  {
   "cells": [
    {
     "cell_type": "heading",
     "level": 1,
     "metadata": {},
     "source": [
      "Indeed API interface"
     ]
    },
    {
     "cell_type": "markdown",
     "metadata": {},
     "source": [
      "More info at [Indeed job search API](https://ads.indeed.com/jobroll/xmlfeed)\n",
      "\n",
      "Supported parameters:\n",
      "* ***publisher*** - (required) Publisher ID. Your publisher ID is \"xxxxxxx\". This is assigned when you register as a publisher.\n",
      "* ***v*** - (required) Version. Which version of the API you wish to use. All publishers should be using version 2. Currently available versions are 1 and 2.\n",
      "* *format* - (optional) Format. Which output format of the API you wish to use. The options are \"xml\" and \"json\". If omitted or invalid, the XML format is used.\n",
      "* *callback* - (optional) Callback. The name of a javascript function to use as a callback to which the results of the search are passed. This only applies when format=json. For security reasons, the callback name is restricted letters, numbers, and the underscore character.\n",
      "* ***q*** - (required) Query. By default terms are ANDed. To see what is possible, use our [advanced search page](http://www.indeed.com/advanced_search) to perform a search and then check the url for the q value.\n",
      "* *l* - (optional) Location. Use a postal code or a \"city, state/province/region\" combination.\n",
      "* *sort* - (optional) Sort by relevance or date. Default is relevance.\n",
      "* *radius* - (optional) Distance from search location (\"as the crow flies\"). Default is 25.\n",
      "* *st* - (optional) Site type. To show only jobs from job boards use \"jobsite\". For jobs from direct employer websites use \"employer\".\n",
      "* *jt* - (optional) Job type. Allowed values: \"fulltime\", \"parttime\", \"contract\", \"internship\", \"temporary\".\n",
      "* *start* - (optional) Start results at this result number, beginning with 0. Default is 0.\n",
      "* *limit* - (optional) Maximum number of results returned per query. Default is 10\n",
      "* *fromage* - (optional) Number of days back to search.\n",
      "* *highlight* - (optional) Setting this value to 1 will bold terms in the snippet that are also present in q. Default is 0.\n",
      "* *filter* - (optional) Filter duplicate results. 0 turns off duplicate job filtering. Default is 1.\n",
      "* *latlong* - (optional) If latlong=1, returns latitude and longitude information for each job result. Default is 0.\n",
      "* *co* - (optional) Search within country specified. Default is `us` See below for a complete list of supported countries.\n",
      "* *chnl* - (optional) Channel Name: Group API requests to a specific channel\n",
      "* ***userip*** - (required) The IP number of the end-user to whom the job results will be displayed.\n",
      "* ***useragent*** - (required) The User-Agent (browser) of the end-user to whom the job results will be displayed. This can be obtained from the \"User-Agent\" HTTP request header from the end-user."
     ]
    },
    {
     "cell_type": "code",
     "collapsed": false,
     "input": [
      "import sys\n",
      "import requests\n",
      "import pandas as pd\n",
      "import numpy as np\n",
      "from datetime import datetime, date\n",
      "import time"
     ],
     "language": "python",
     "metadata": {},
     "outputs": [],
     "prompt_number": 1
    },
    {
     "cell_type": "code",
     "collapsed": false,
     "input": [
      "import matplotlib.pyplot as plt\n",
      "%matplotlib inline"
     ],
     "language": "python",
     "metadata": {},
     "outputs": [],
     "prompt_number": 2
    },
    {
     "cell_type": "code",
     "collapsed": false,
     "input": [
      "publisher_key = ### insert key here!!!"
     ],
     "language": "python",
     "metadata": {},
     "outputs": [],
     "prompt_number": 3
    },
    {
     "cell_type": "code",
     "collapsed": false,
     "input": [
      "domain = 'http://api.indeed.com'\n",
      "path = '/ads/apisearch'\n",
      "parameters = {'publisher': publisher_key,\n",
      "              'v': 2,\n",
      "              'userip': requests.get('https://api.ipify.org').text,\n",
      "              'useragent': u'Mozilla/5.0 (X11; Ubuntu; Linux x86_64; rv:50.0) Gecko/20100101 Firefox/50.0',\n",
      "              'format': u'json',\n",
      "              'limit': 5,\n",
      "              'q': u'data',\n",
      "              'highlight': 0}"
     ],
     "language": "python",
     "metadata": {},
     "outputs": [],
     "prompt_number": 4
    },
    {
     "cell_type": "code",
     "collapsed": false,
     "input": [
      "response = requests.get(domain + path, params = parameters)\n",
      "data = response.json()"
     ],
     "language": "python",
     "metadata": {},
     "outputs": [],
     "prompt_number": 5
    },
    {
     "cell_type": "code",
     "collapsed": false,
     "input": [
      "data"
     ],
     "language": "python",
     "metadata": {},
     "outputs": [
      {
       "metadata": {},
       "output_type": "pyout",
       "prompt_number": 6,
       "text": [
        "{u'dupefilter': True,\n",
        " u'end': 5,\n",
        " u'highlight': False,\n",
        " u'location': u'',\n",
        " u'pageNumber': 0,\n",
        " u'paginationPayload': u'',\n",
        " u'query': u'data',\n",
        " u'results': [{u'city': u'Work at Home',\n",
        "   u'company': u\"Franchise First Pizza Hut Int'l\",\n",
        "   u'country': u'US',\n",
        "   u'date': u'Thu, 02 Feb 2017 18:21:27 GMT',\n",
        "   u'expired': False,\n",
        "   u'formattedLocation': u'Work at Home',\n",
        "   u'formattedLocationFull': u'Work at Home',\n",
        "   u'formattedRelativeTime': u'9 days ago',\n",
        "   u'indeedApply': True,\n",
        "   u'jobkey': u'a54d7a8a20ef31d8',\n",
        "   u'jobtitle': u'Remote Order Entry Agent',\n",
        "   u'onmousedown': u\"indeed_clk(this,'1451');\",\n",
        "   u'snippet': u'Franchisee First Pizza Hut specializes in managing Order Entry overflow calls for almost 6000 Pizza Hut locations across the United States \\u2022 Answer Calls \\u2022',\n",
        "   u'source': u'Indeed',\n",
        "   u'sponsored': False,\n",
        "   u'state': u'',\n",
        "   u'stations': u'',\n",
        "   u'url': u'http://www.indeed.com/viewjob?jk=a54d7a8a20ef31d8&qd=BU3DASnRHkXHsB14em83waqQ1vA92PEiZ4AqkxixmkIZ_DOYR1KHvfdmY8djInXo8hd_2bBtOCG07EKTgBW_-jjRf1GoyahbLXjpxiIJpuU&indpubnum=4690290965597850&atk=1b8o8cs5ea15596o'},\n",
        "  {u'city': u'Newark',\n",
        "   u'company': u'Bank of America',\n",
        "   u'country': u'US',\n",
        "   u'date': u'Wed, 25 Jan 2017 17:41:20 GMT',\n",
        "   u'expired': False,\n",
        "   u'formattedLocation': u'Newark, DE',\n",
        "   u'formattedLocationFull': u'Newark, DE',\n",
        "   u'formattedRelativeTime': u'17 days ago',\n",
        "   u'indeedApply': False,\n",
        "   u'jobkey': u'941ac60fb0e4c82e',\n",
        "   u'jobtitle': u'Data Entry operator I',\n",
        "   u'onmousedown': u\"indeed_clk(this,'1451');\",\n",
        "   u'snippet': u'Basic level reporting, alpha and numeric data entry, reviewing and processing transactions for. An entry level position in a multi-skilled environment...',\n",
        "   u'source': u'Bank of America',\n",
        "   u'sponsored': False,\n",
        "   u'state': u'DE',\n",
        "   u'stations': u'',\n",
        "   u'url': u'http://www.indeed.com/viewjob?jk=941ac60fb0e4c82e&qd=BU3DASnRHkXHsB14em83waqQ1vA92PEiZ4AqkxixmkIZ_DOYR1KHvfdmY8djInXo8hd_2bBtOCG07EKTgBW_-jjRf1GoyahbLXjpxiIJpuU&indpubnum=4690290965597850&atk=1b8o8cs5ea15596o'},\n",
        "  {u'city': u'Stuart',\n",
        "   u'company': u'Helping People Succeed, Inc',\n",
        "   u'country': u'US',\n",
        "   u'date': u'Wed, 25 Jan 2017 19:42:48 GMT',\n",
        "   u'expired': False,\n",
        "   u'formattedLocation': u'Stuart, FL',\n",
        "   u'formattedLocationFull': u'Stuart, FL',\n",
        "   u'formattedRelativeTime': u'17 days ago',\n",
        "   u'indeedApply': True,\n",
        "   u'jobkey': u'c99d28f065e3101e',\n",
        "   u'jobtitle': u'Data Entry Specialist',\n",
        "   u'onmousedown': u\"indeed_clk(this,'1451');\",\n",
        "   u'snippet': u'Accurately maintain Ages and Stages Questionnaire mail-out and online system including data gathering, data input, filing, and overall organization....',\n",
        "   u'source': u'Indeed',\n",
        "   u'sponsored': False,\n",
        "   u'state': u'FL',\n",
        "   u'stations': u'',\n",
        "   u'url': u'http://www.indeed.com/viewjob?jk=c99d28f065e3101e&qd=BU3DASnRHkXHsB14em83waqQ1vA92PEiZ4AqkxixmkIZ_DOYR1KHvfdmY8djInXo8hd_2bBtOCG07EKTgBW_-jjRf1GoyahbLXjpxiIJpuU&indpubnum=4690290965597850&atk=1b8o8cs5ea15596o'},\n",
        "  {u'city': u'Austin',\n",
        "   u'company': u'Kendra Scott Design',\n",
        "   u'country': u'US',\n",
        "   u'date': u'Fri, 10 Feb 2017 04:48:42 GMT',\n",
        "   u'expired': False,\n",
        "   u'formattedLocation': u'Austin, TX',\n",
        "   u'formattedLocationFull': u'Austin, TX 78756',\n",
        "   u'formattedRelativeTime': u'1 day ago',\n",
        "   u'indeedApply': False,\n",
        "   u'jobkey': u'f8fd832329b30062',\n",
        "   u'jobtitle': u'Communications Project Lead',\n",
        "   u'onmousedown': u\"indeed_clk(this,'1451');\",\n",
        "   u'snippet': u'Ability to gather and create storytelling from key data to help make strategy decisions. About Kendra Scott:....',\n",
        "   u'source': u'Kendra Scott Design',\n",
        "   u'sponsored': False,\n",
        "   u'state': u'TX',\n",
        "   u'stations': u'',\n",
        "   u'url': u'http://www.indeed.com/viewjob?jk=f8fd832329b30062&qd=BU3DASnRHkXHsB14em83waqQ1vA92PEiZ4AqkxixmkIZ_DOYR1KHvfdmY8djInXo8hd_2bBtOCG07EKTgBW_-jjRf1GoyahbLXjpxiIJpuU&indpubnum=4690290965597850&atk=1b8o8cs5ea15596o'},\n",
        "  {u'city': u'',\n",
        "   u'company': u'Human API',\n",
        "   u'country': u'US',\n",
        "   u'date': u'Tue, 17 Jan 2017 20:32:21 GMT',\n",
        "   u'expired': False,\n",
        "   u'formattedLocation': u'California',\n",
        "   u'formattedLocationFull': u'California',\n",
        "   u'formattedRelativeTime': u'25 days ago',\n",
        "   u'indeedApply': False,\n",
        "   u'jobkey': u'466be651473c7d54',\n",
        "   u'jobtitle': u'Data Entry Specialist',\n",
        "   u'onmousedown': u\"indeed_clk(this,'1451');\",\n",
        "   u'snippet': u'Perform daily data entry, data compilation, and data processing activities. As a Data Entry Specialist, you will be responsible for ensuring that data acquired...',\n",
        "   u'source': u'Human API',\n",
        "   u'sponsored': False,\n",
        "   u'state': u'CA',\n",
        "   u'stations': u'',\n",
        "   u'url': u'http://www.indeed.com/viewjob?jk=466be651473c7d54&qd=BU3DASnRHkXHsB14em83waqQ1vA92PEiZ4AqkxixmkIZ_DOYR1KHvfdmY8djInXo8hd_2bBtOCG07EKTgBW_-jjRf1GoyahbLXjpxiIJpuU&indpubnum=4690290965597850&atk=1b8o8cs5ea15596o'}],\n",
        " u'start': 1,\n",
        " u'totalResults': 589600,\n",
        " u'version': 2}"
       ]
      }
     ],
     "prompt_number": 6
    },
    {
     "cell_type": "code",
     "collapsed": false,
     "input": [
      "df = pd.DataFrame(data['results'])\n",
      "df['date'] = pd.to_datetime(df['date'])\n",
      "df"
     ],
     "language": "python",
     "metadata": {},
     "outputs": [
      {
       "html": [
        "<div style=\"max-width:1500px;overflow:auto;\">\n",
        "<table border=\"1\" class=\"dataframe\">\n",
        "  <thead>\n",
        "    <tr style=\"text-align: right;\">\n",
        "      <th></th>\n",
        "      <th>city</th>\n",
        "      <th>company</th>\n",
        "      <th>country</th>\n",
        "      <th>date</th>\n",
        "      <th>expired</th>\n",
        "      <th>formattedLocation</th>\n",
        "      <th>formattedLocationFull</th>\n",
        "      <th>formattedRelativeTime</th>\n",
        "      <th>indeedApply</th>\n",
        "      <th>jobkey</th>\n",
        "      <th>jobtitle</th>\n",
        "      <th>onmousedown</th>\n",
        "      <th>snippet</th>\n",
        "      <th>source</th>\n",
        "      <th>sponsored</th>\n",
        "      <th>state</th>\n",
        "      <th>stations</th>\n",
        "      <th>url</th>\n",
        "    </tr>\n",
        "  </thead>\n",
        "  <tbody>\n",
        "    <tr>\n",
        "      <th>0</th>\n",
        "      <td>Work at Home</td>\n",
        "      <td>Franchise First Pizza Hut Int'l</td>\n",
        "      <td>US</td>\n",
        "      <td>2017-02-02 18:21:27</td>\n",
        "      <td>False</td>\n",
        "      <td>Work at Home</td>\n",
        "      <td>Work at Home</td>\n",
        "      <td>9 days ago</td>\n",
        "      <td>True</td>\n",
        "      <td>a54d7a8a20ef31d8</td>\n",
        "      <td>Remote Order Entry Agent</td>\n",
        "      <td>indeed_clk(this,'1451');</td>\n",
        "      <td>Franchisee First Pizza Hut specializes in mana...</td>\n",
        "      <td>Indeed</td>\n",
        "      <td>False</td>\n",
        "      <td></td>\n",
        "      <td></td>\n",
        "      <td>http://www.indeed.com/viewjob?jk=a54d7a8a20ef3...</td>\n",
        "    </tr>\n",
        "    <tr>\n",
        "      <th>1</th>\n",
        "      <td>Newark</td>\n",
        "      <td>Bank of America</td>\n",
        "      <td>US</td>\n",
        "      <td>2017-01-25 17:41:20</td>\n",
        "      <td>False</td>\n",
        "      <td>Newark, DE</td>\n",
        "      <td>Newark, DE</td>\n",
        "      <td>17 days ago</td>\n",
        "      <td>False</td>\n",
        "      <td>941ac60fb0e4c82e</td>\n",
        "      <td>Data Entry operator I</td>\n",
        "      <td>indeed_clk(this,'1451');</td>\n",
        "      <td>Basic level reporting, alpha and numeric data ...</td>\n",
        "      <td>Bank of America</td>\n",
        "      <td>False</td>\n",
        "      <td>DE</td>\n",
        "      <td></td>\n",
        "      <td>http://www.indeed.com/viewjob?jk=941ac60fb0e4c...</td>\n",
        "    </tr>\n",
        "    <tr>\n",
        "      <th>2</th>\n",
        "      <td>Stuart</td>\n",
        "      <td>Helping People Succeed, Inc</td>\n",
        "      <td>US</td>\n",
        "      <td>2017-01-25 19:42:48</td>\n",
        "      <td>False</td>\n",
        "      <td>Stuart, FL</td>\n",
        "      <td>Stuart, FL</td>\n",
        "      <td>17 days ago</td>\n",
        "      <td>True</td>\n",
        "      <td>c99d28f065e3101e</td>\n",
        "      <td>Data Entry Specialist</td>\n",
        "      <td>indeed_clk(this,'1451');</td>\n",
        "      <td>Accurately maintain Ages and Stages Questionna...</td>\n",
        "      <td>Indeed</td>\n",
        "      <td>False</td>\n",
        "      <td>FL</td>\n",
        "      <td></td>\n",
        "      <td>http://www.indeed.com/viewjob?jk=c99d28f065e31...</td>\n",
        "    </tr>\n",
        "    <tr>\n",
        "      <th>3</th>\n",
        "      <td>Austin</td>\n",
        "      <td>Kendra Scott Design</td>\n",
        "      <td>US</td>\n",
        "      <td>2017-02-10 04:48:42</td>\n",
        "      <td>False</td>\n",
        "      <td>Austin, TX</td>\n",
        "      <td>Austin, TX 78756</td>\n",
        "      <td>1 day ago</td>\n",
        "      <td>False</td>\n",
        "      <td>f8fd832329b30062</td>\n",
        "      <td>Communications Project Lead</td>\n",
        "      <td>indeed_clk(this,'1451');</td>\n",
        "      <td>Ability to gather and create storytelling from...</td>\n",
        "      <td>Kendra Scott Design</td>\n",
        "      <td>False</td>\n",
        "      <td>TX</td>\n",
        "      <td></td>\n",
        "      <td>http://www.indeed.com/viewjob?jk=f8fd832329b30...</td>\n",
        "    </tr>\n",
        "    <tr>\n",
        "      <th>4</th>\n",
        "      <td></td>\n",
        "      <td>Human API</td>\n",
        "      <td>US</td>\n",
        "      <td>2017-01-17 20:32:21</td>\n",
        "      <td>False</td>\n",
        "      <td>California</td>\n",
        "      <td>California</td>\n",
        "      <td>25 days ago</td>\n",
        "      <td>False</td>\n",
        "      <td>466be651473c7d54</td>\n",
        "      <td>Data Entry Specialist</td>\n",
        "      <td>indeed_clk(this,'1451');</td>\n",
        "      <td>Perform daily data entry, data compilation, an...</td>\n",
        "      <td>Human API</td>\n",
        "      <td>False</td>\n",
        "      <td>CA</td>\n",
        "      <td></td>\n",
        "      <td>http://www.indeed.com/viewjob?jk=466be651473c7...</td>\n",
        "    </tr>\n",
        "  </tbody>\n",
        "</table>\n",
        "</div>"
       ],
       "metadata": {},
       "output_type": "pyout",
       "prompt_number": 7,
       "text": [
        "           city                          company country                date  \\\n",
        "0  Work at Home  Franchise First Pizza Hut Int'l      US 2017-02-02 18:21:27   \n",
        "1        Newark                  Bank of America      US 2017-01-25 17:41:20   \n",
        "2        Stuart      Helping People Succeed, Inc      US 2017-01-25 19:42:48   \n",
        "3        Austin              Kendra Scott Design      US 2017-02-10 04:48:42   \n",
        "4                                      Human API      US 2017-01-17 20:32:21   \n",
        "\n",
        "  expired formattedLocation formattedLocationFull formattedRelativeTime  \\\n",
        "0   False      Work at Home          Work at Home            9 days ago   \n",
        "1   False        Newark, DE            Newark, DE           17 days ago   \n",
        "2   False        Stuart, FL            Stuart, FL           17 days ago   \n",
        "3   False        Austin, TX      Austin, TX 78756             1 day ago   \n",
        "4   False        California            California           25 days ago   \n",
        "\n",
        "  indeedApply            jobkey                     jobtitle  \\\n",
        "0        True  a54d7a8a20ef31d8     Remote Order Entry Agent   \n",
        "1       False  941ac60fb0e4c82e        Data Entry operator I   \n",
        "2        True  c99d28f065e3101e        Data Entry Specialist   \n",
        "3       False  f8fd832329b30062  Communications Project Lead   \n",
        "4       False  466be651473c7d54        Data Entry Specialist   \n",
        "\n",
        "                onmousedown  \\\n",
        "0  indeed_clk(this,'1451');   \n",
        "1  indeed_clk(this,'1451');   \n",
        "2  indeed_clk(this,'1451');   \n",
        "3  indeed_clk(this,'1451');   \n",
        "4  indeed_clk(this,'1451');   \n",
        "\n",
        "                                             snippet               source  \\\n",
        "0  Franchisee First Pizza Hut specializes in mana...               Indeed   \n",
        "1  Basic level reporting, alpha and numeric data ...      Bank of America   \n",
        "2  Accurately maintain Ages and Stages Questionna...               Indeed   \n",
        "3  Ability to gather and create storytelling from...  Kendra Scott Design   \n",
        "4  Perform daily data entry, data compilation, an...            Human API   \n",
        "\n",
        "  sponsored state stations                                                url  \n",
        "0     False                 http://www.indeed.com/viewjob?jk=a54d7a8a20ef3...  \n",
        "1     False    DE           http://www.indeed.com/viewjob?jk=941ac60fb0e4c...  \n",
        "2     False    FL           http://www.indeed.com/viewjob?jk=c99d28f065e31...  \n",
        "3     False    TX           http://www.indeed.com/viewjob?jk=f8fd832329b30...  \n",
        "4     False    CA           http://www.indeed.com/viewjob?jk=466be651473c7...  "
       ]
      }
     ],
     "prompt_number": 7
    },
    {
     "cell_type": "code",
     "collapsed": false,
     "input": [
      "def get_job_listing(**kwargs):\n",
      "    parameters = kwargs\n",
      "    all_pages = False\n",
      "    if not parameters.has_key('limit'):\n",
      "        parameters['limit'] = 25\n",
      "    if not parameters.has_key('start'):\n",
      "        parameters['start'] = 0\n",
      "        all_pages = True\n",
      "    parameters['publisher'] = publisher_key\n",
      "    parameters['v'] = 2\n",
      "    parameters['userip'] = requests.get('https://api.ipify.org').text\n",
      "    if not parameters.has_key('useragent'):\n",
      "        parameters['useragent'] = u'Mozilla/5.0 (X11; Ubuntu; Linux x86_64; rv:50.0) Gecko/20100101 Firefox/50.0'\n",
      "    parameters['format'] = u'json'\n",
      "    if not parameters.has_key('highlight'):\n",
      "        parameters['highlight'] = 0\n",
      "    df = pd.DataFrame()\n",
      "    df_, totalResults = _get_sub_listing(parameters)\n",
      "    resultsPerPage = parameters['limit']\n",
      "    if len(df_) == 0:\n",
      "        return df\n",
      "    df = df.append(df_)\n",
      "    if all_pages:\n",
      "        percent = 0\n",
      "        max_page = (totalResults-1)/resultsPerPage + 1\n",
      "        print 'Total pages:', max_page\n",
      "        sys.stdout.flush()\n",
      "        for start in xrange(resultsPerPage, totalResults, resultsPerPage):\n",
      "            parameters['start'] = start\n",
      "            df_ = _get_sub_listing(parameters)[0]\n",
      "            while(percent < (start+resultsPerPage)*100/totalResults):\n",
      "                percent += 1\n",
      "                if percent % 10 == 0:\n",
      "                    sys.stdout.write(str(percent) + '%')\n",
      "                else:\n",
      "                    sys.stdout.write('.')\n",
      "                sys.stdout.flush()\n",
      "            if len(df_) > 0:\n",
      "                df = df.append(df_)\n",
      "            else:\n",
      "                return df.reset_index(drop = True)\n",
      "    return df.reset_index(drop = True)\n",
      "\n",
      "def _get_sub_listing(parameters):\n",
      "    root = 'http://api.indeed.com'\n",
      "    path = '/ads/apisearch'\n",
      "    response = requests.get(root + path, params=parameters)\n",
      "    data = response.json()\n",
      "    totalResults = data['totalResults']\n",
      "    if data.has_key('results'):\n",
      "        df = pd.DataFrame(data['results'])\n",
      "        if 'date' in df.columns:\n",
      "            #df['date'] = df['date'].apply(lambda l: datetime.strptime(l, \"%Y-%m-%d\").date())\n",
      "            df['date'] = pd.to_datetime(df['date'])\n",
      "        return df, totalResults\n",
      "    return pd.DataFrame(), totalResults"
     ],
     "language": "python",
     "metadata": {},
     "outputs": [],
     "prompt_number": 22
    },
    {
     "cell_type": "code",
     "collapsed": false,
     "input": [
      "listing = get_job_listing(q = 'data science', l = '10001', co = 'us', sort = 'date')"
     ],
     "language": "python",
     "metadata": {},
     "outputs": [
      {
       "output_type": "stream",
       "stream": "stdout",
       "text": [
        "Total pages: 301\n"
       ]
      },
      {
       "output_type": "stream",
       "stream": "stdout",
       "text": [
        "."
       ]
      },
      {
       "output_type": "stream",
       "stream": "stdout",
       "text": [
        "."
       ]
      },
      {
       "output_type": "stream",
       "stream": "stdout",
       "text": [
        "."
       ]
      },
      {
       "output_type": "stream",
       "stream": "stdout",
       "text": [
        "."
       ]
      },
      {
       "output_type": "stream",
       "stream": "stdout",
       "text": [
        "."
       ]
      },
      {
       "output_type": "stream",
       "stream": "stdout",
       "text": [
        "."
       ]
      },
      {
       "output_type": "stream",
       "stream": "stdout",
       "text": [
        "."
       ]
      },
      {
       "output_type": "stream",
       "stream": "stdout",
       "text": [
        "."
       ]
      },
      {
       "output_type": "stream",
       "stream": "stdout",
       "text": [
        "."
       ]
      },
      {
       "output_type": "stream",
       "stream": "stdout",
       "text": [
        "10%"
       ]
      },
      {
       "output_type": "stream",
       "stream": "stdout",
       "text": [
        "."
       ]
      },
      {
       "output_type": "stream",
       "stream": "stdout",
       "text": [
        "."
       ]
      },
      {
       "output_type": "stream",
       "stream": "stdout",
       "text": [
        "."
       ]
      },
      {
       "output_type": "stream",
       "stream": "stdout",
       "text": [
        "."
       ]
      },
      {
       "output_type": "stream",
       "stream": "stdout",
       "text": [
        "."
       ]
      },
      {
       "output_type": "stream",
       "stream": "stdout",
       "text": [
        "."
       ]
      },
      {
       "output_type": "stream",
       "stream": "stdout",
       "text": [
        "."
       ]
      },
      {
       "output_type": "stream",
       "stream": "stdout",
       "text": [
        "."
       ]
      },
      {
       "output_type": "stream",
       "stream": "stdout",
       "text": [
        "."
       ]
      },
      {
       "output_type": "stream",
       "stream": "stdout",
       "text": [
        "20%"
       ]
      },
      {
       "output_type": "stream",
       "stream": "stdout",
       "text": [
        "."
       ]
      },
      {
       "output_type": "stream",
       "stream": "stdout",
       "text": [
        "."
       ]
      },
      {
       "output_type": "stream",
       "stream": "stdout",
       "text": [
        "."
       ]
      },
      {
       "output_type": "stream",
       "stream": "stdout",
       "text": [
        "."
       ]
      },
      {
       "output_type": "stream",
       "stream": "stdout",
       "text": [
        "."
       ]
      },
      {
       "output_type": "stream",
       "stream": "stdout",
       "text": [
        "."
       ]
      },
      {
       "output_type": "stream",
       "stream": "stdout",
       "text": [
        "."
       ]
      },
      {
       "output_type": "stream",
       "stream": "stdout",
       "text": [
        "."
       ]
      },
      {
       "output_type": "stream",
       "stream": "stdout",
       "text": [
        "."
       ]
      },
      {
       "output_type": "stream",
       "stream": "stdout",
       "text": [
        "30%"
       ]
      },
      {
       "output_type": "stream",
       "stream": "stdout",
       "text": [
        "."
       ]
      },
      {
       "output_type": "stream",
       "stream": "stdout",
       "text": [
        "."
       ]
      },
      {
       "output_type": "stream",
       "stream": "stdout",
       "text": [
        "."
       ]
      },
      {
       "output_type": "stream",
       "stream": "stdout",
       "text": [
        "."
       ]
      },
      {
       "output_type": "stream",
       "stream": "stdout",
       "text": [
        "."
       ]
      },
      {
       "output_type": "stream",
       "stream": "stdout",
       "text": [
        "."
       ]
      },
      {
       "output_type": "stream",
       "stream": "stdout",
       "text": [
        "."
       ]
      },
      {
       "output_type": "stream",
       "stream": "stdout",
       "text": [
        "."
       ]
      },
      {
       "output_type": "stream",
       "stream": "stdout",
       "text": [
        "."
       ]
      },
      {
       "output_type": "stream",
       "stream": "stdout",
       "text": [
        "40%"
       ]
      },
      {
       "output_type": "stream",
       "stream": "stdout",
       "text": [
        "."
       ]
      },
      {
       "output_type": "stream",
       "stream": "stdout",
       "text": [
        "."
       ]
      },
      {
       "output_type": "stream",
       "stream": "stdout",
       "text": [
        "."
       ]
      },
      {
       "output_type": "stream",
       "stream": "stdout",
       "text": [
        "."
       ]
      },
      {
       "output_type": "stream",
       "stream": "stdout",
       "text": [
        "."
       ]
      },
      {
       "output_type": "stream",
       "stream": "stdout",
       "text": [
        "."
       ]
      },
      {
       "output_type": "stream",
       "stream": "stdout",
       "text": [
        "."
       ]
      },
      {
       "output_type": "stream",
       "stream": "stdout",
       "text": [
        "."
       ]
      },
      {
       "output_type": "stream",
       "stream": "stdout",
       "text": [
        "."
       ]
      },
      {
       "output_type": "stream",
       "stream": "stdout",
       "text": [
        "50%"
       ]
      },
      {
       "output_type": "stream",
       "stream": "stdout",
       "text": [
        "."
       ]
      },
      {
       "output_type": "stream",
       "stream": "stdout",
       "text": [
        "."
       ]
      },
      {
       "output_type": "stream",
       "stream": "stdout",
       "text": [
        "."
       ]
      },
      {
       "output_type": "stream",
       "stream": "stdout",
       "text": [
        "."
       ]
      },
      {
       "output_type": "stream",
       "stream": "stdout",
       "text": [
        "."
       ]
      },
      {
       "output_type": "stream",
       "stream": "stdout",
       "text": [
        "."
       ]
      },
      {
       "output_type": "stream",
       "stream": "stdout",
       "text": [
        "."
       ]
      },
      {
       "output_type": "stream",
       "stream": "stdout",
       "text": [
        "."
       ]
      },
      {
       "output_type": "stream",
       "stream": "stdout",
       "text": [
        "."
       ]
      },
      {
       "output_type": "stream",
       "stream": "stdout",
       "text": [
        "60%"
       ]
      },
      {
       "output_type": "stream",
       "stream": "stdout",
       "text": [
        "."
       ]
      },
      {
       "output_type": "stream",
       "stream": "stdout",
       "text": [
        "."
       ]
      },
      {
       "output_type": "stream",
       "stream": "stdout",
       "text": [
        "."
       ]
      },
      {
       "output_type": "stream",
       "stream": "stdout",
       "text": [
        "."
       ]
      },
      {
       "output_type": "stream",
       "stream": "stdout",
       "text": [
        "."
       ]
      },
      {
       "output_type": "stream",
       "stream": "stdout",
       "text": [
        "."
       ]
      },
      {
       "output_type": "stream",
       "stream": "stdout",
       "text": [
        "."
       ]
      },
      {
       "output_type": "stream",
       "stream": "stdout",
       "text": [
        "."
       ]
      },
      {
       "output_type": "stream",
       "stream": "stdout",
       "text": [
        "."
       ]
      },
      {
       "output_type": "stream",
       "stream": "stdout",
       "text": [
        "70%"
       ]
      },
      {
       "output_type": "stream",
       "stream": "stdout",
       "text": [
        "."
       ]
      },
      {
       "output_type": "stream",
       "stream": "stdout",
       "text": [
        "."
       ]
      },
      {
       "output_type": "stream",
       "stream": "stdout",
       "text": [
        "."
       ]
      },
      {
       "output_type": "stream",
       "stream": "stdout",
       "text": [
        "."
       ]
      },
      {
       "output_type": "stream",
       "stream": "stdout",
       "text": [
        "."
       ]
      },
      {
       "output_type": "stream",
       "stream": "stdout",
       "text": [
        "."
       ]
      },
      {
       "output_type": "stream",
       "stream": "stdout",
       "text": [
        "."
       ]
      },
      {
       "output_type": "stream",
       "stream": "stdout",
       "text": [
        "."
       ]
      },
      {
       "output_type": "stream",
       "stream": "stdout",
       "text": [
        "."
       ]
      },
      {
       "output_type": "stream",
       "stream": "stdout",
       "text": [
        "80%"
       ]
      },
      {
       "output_type": "stream",
       "stream": "stdout",
       "text": [
        "."
       ]
      },
      {
       "output_type": "stream",
       "stream": "stdout",
       "text": [
        "."
       ]
      },
      {
       "output_type": "stream",
       "stream": "stdout",
       "text": [
        "."
       ]
      },
      {
       "output_type": "stream",
       "stream": "stdout",
       "text": [
        "."
       ]
      },
      {
       "output_type": "stream",
       "stream": "stdout",
       "text": [
        "."
       ]
      },
      {
       "output_type": "stream",
       "stream": "stdout",
       "text": [
        "."
       ]
      },
      {
       "output_type": "stream",
       "stream": "stdout",
       "text": [
        "."
       ]
      },
      {
       "output_type": "stream",
       "stream": "stdout",
       "text": [
        "."
       ]
      },
      {
       "output_type": "stream",
       "stream": "stdout",
       "text": [
        "."
       ]
      },
      {
       "output_type": "stream",
       "stream": "stdout",
       "text": [
        "90%"
       ]
      },
      {
       "output_type": "stream",
       "stream": "stdout",
       "text": [
        "."
       ]
      },
      {
       "output_type": "stream",
       "stream": "stdout",
       "text": [
        "."
       ]
      },
      {
       "output_type": "stream",
       "stream": "stdout",
       "text": [
        "."
       ]
      },
      {
       "output_type": "stream",
       "stream": "stdout",
       "text": [
        "."
       ]
      },
      {
       "output_type": "stream",
       "stream": "stdout",
       "text": [
        "."
       ]
      },
      {
       "output_type": "stream",
       "stream": "stdout",
       "text": [
        "."
       ]
      },
      {
       "output_type": "stream",
       "stream": "stdout",
       "text": [
        "."
       ]
      },
      {
       "output_type": "stream",
       "stream": "stdout",
       "text": [
        "."
       ]
      },
      {
       "output_type": "stream",
       "stream": "stdout",
       "text": [
        "."
       ]
      },
      {
       "output_type": "stream",
       "stream": "stdout",
       "text": [
        "100%"
       ]
      }
     ],
     "prompt_number": 23
    },
    {
     "cell_type": "code",
     "collapsed": false,
     "input": [
      "listing.dtypes"
     ],
     "language": "python",
     "metadata": {},
     "outputs": [
      {
       "metadata": {},
       "output_type": "pyout",
       "prompt_number": 14,
       "text": [
        "city                             object\n",
        "company                          object\n",
        "country                          object\n",
        "date                     datetime64[ns]\n",
        "expired                            bool\n",
        "formattedLocation                object\n",
        "formattedLocationFull            object\n",
        "formattedRelativeTime            object\n",
        "indeedApply                        bool\n",
        "jobkey                           object\n",
        "jobtitle                         object\n",
        "onmousedown                      object\n",
        "snippet                          object\n",
        "source                           object\n",
        "sponsored                          bool\n",
        "state                            object\n",
        "stations                         object\n",
        "url                              object\n",
        "dtype: object"
       ]
      }
     ],
     "prompt_number": 14
    },
    {
     "cell_type": "code",
     "collapsed": false,
     "input": [
      "listing.describe()"
     ],
     "language": "python",
     "metadata": {},
     "outputs": [
      {
       "html": [
        "<div style=\"max-width:1500px;overflow:auto;\">\n",
        "<table border=\"1\" class=\"dataframe\">\n",
        "  <thead>\n",
        "    <tr style=\"text-align: right;\">\n",
        "      <th></th>\n",
        "      <th>city</th>\n",
        "      <th>company</th>\n",
        "      <th>country</th>\n",
        "      <th>date</th>\n",
        "      <th>expired</th>\n",
        "      <th>formattedLocation</th>\n",
        "      <th>formattedLocationFull</th>\n",
        "      <th>formattedRelativeTime</th>\n",
        "      <th>indeedApply</th>\n",
        "      <th>jobkey</th>\n",
        "      <th>jobtitle</th>\n",
        "      <th>onmousedown</th>\n",
        "      <th>snippet</th>\n",
        "      <th>source</th>\n",
        "      <th>sponsored</th>\n",
        "      <th>state</th>\n",
        "      <th>stations</th>\n",
        "      <th>url</th>\n",
        "    </tr>\n",
        "  </thead>\n",
        "  <tbody>\n",
        "    <tr>\n",
        "      <th>count</th>\n",
        "      <td>3800</td>\n",
        "      <td>3800</td>\n",
        "      <td>3800</td>\n",
        "      <td>3800</td>\n",
        "      <td>3800</td>\n",
        "      <td>3800</td>\n",
        "      <td>3800</td>\n",
        "      <td>3800</td>\n",
        "      <td>3800</td>\n",
        "      <td>3800</td>\n",
        "      <td>3800</td>\n",
        "      <td>3800</td>\n",
        "      <td>3800</td>\n",
        "      <td>3800</td>\n",
        "      <td>3800</td>\n",
        "      <td>3800</td>\n",
        "      <td>3800</td>\n",
        "      <td>3800</td>\n",
        "    </tr>\n",
        "    <tr>\n",
        "      <th>unique</th>\n",
        "      <td>62</td>\n",
        "      <td>355</td>\n",
        "      <td>1</td>\n",
        "      <td>513</td>\n",
        "      <td>1</td>\n",
        "      <td>62</td>\n",
        "      <td>108</td>\n",
        "      <td>23</td>\n",
        "      <td>2</td>\n",
        "      <td>528</td>\n",
        "      <td>500</td>\n",
        "      <td>150</td>\n",
        "      <td>493</td>\n",
        "      <td>280</td>\n",
        "      <td>1</td>\n",
        "      <td>2</td>\n",
        "      <td>1</td>\n",
        "      <td>3800</td>\n",
        "    </tr>\n",
        "    <tr>\n",
        "      <th>top</th>\n",
        "      <td>New York</td>\n",
        "      <td>Mount Sinai Health System</td>\n",
        "      <td>US</td>\n",
        "      <td>2017-02-06 16:49:16</td>\n",
        "      <td>False</td>\n",
        "      <td>New York, NY</td>\n",
        "      <td>New York, NY</td>\n",
        "      <td>5 days ago</td>\n",
        "      <td>False</td>\n",
        "      <td>07058ad45fccb56e</td>\n",
        "      <td>Software Engineer</td>\n",
        "      <td>indeed_clk(this,'6618');</td>\n",
        "      <td>Collects and records study data. Bachelor's in...</td>\n",
        "      <td>Indeed</td>\n",
        "      <td>False</td>\n",
        "      <td>NY</td>\n",
        "      <td></td>\n",
        "      <td>http://www.indeed.com/viewjob?jk=3e722367f7ece...</td>\n",
        "    </tr>\n",
        "    <tr>\n",
        "      <th>freq</th>\n",
        "      <td>2544</td>\n",
        "      <td>270</td>\n",
        "      <td>3800</td>\n",
        "      <td>132</td>\n",
        "      <td>3800</td>\n",
        "      <td>2544</td>\n",
        "      <td>1648</td>\n",
        "      <td>3325</td>\n",
        "      <td>2912</td>\n",
        "      <td>132</td>\n",
        "      <td>134</td>\n",
        "      <td>50</td>\n",
        "      <td>264</td>\n",
        "      <td>316</td>\n",
        "      <td>3800</td>\n",
        "      <td>2758</td>\n",
        "      <td>3800</td>\n",
        "      <td>1</td>\n",
        "    </tr>\n",
        "    <tr>\n",
        "      <th>first</th>\n",
        "      <td>NaN</td>\n",
        "      <td>NaN</td>\n",
        "      <td>NaN</td>\n",
        "      <td>2017-02-06 05:11:05</td>\n",
        "      <td>NaN</td>\n",
        "      <td>NaN</td>\n",
        "      <td>NaN</td>\n",
        "      <td>NaN</td>\n",
        "      <td>NaN</td>\n",
        "      <td>NaN</td>\n",
        "      <td>NaN</td>\n",
        "      <td>NaN</td>\n",
        "      <td>NaN</td>\n",
        "      <td>NaN</td>\n",
        "      <td>NaN</td>\n",
        "      <td>NaN</td>\n",
        "      <td>NaN</td>\n",
        "      <td>NaN</td>\n",
        "    </tr>\n",
        "    <tr>\n",
        "      <th>last</th>\n",
        "      <td>NaN</td>\n",
        "      <td>NaN</td>\n",
        "      <td>NaN</td>\n",
        "      <td>2017-02-12 02:41:26</td>\n",
        "      <td>NaN</td>\n",
        "      <td>NaN</td>\n",
        "      <td>NaN</td>\n",
        "      <td>NaN</td>\n",
        "      <td>NaN</td>\n",
        "      <td>NaN</td>\n",
        "      <td>NaN</td>\n",
        "      <td>NaN</td>\n",
        "      <td>NaN</td>\n",
        "      <td>NaN</td>\n",
        "      <td>NaN</td>\n",
        "      <td>NaN</td>\n",
        "      <td>NaN</td>\n",
        "      <td>NaN</td>\n",
        "    </tr>\n",
        "  </tbody>\n",
        "</table>\n",
        "</div>"
       ],
       "metadata": {},
       "output_type": "pyout",
       "prompt_number": 15,
       "text": [
        "            city                    company country                 date  \\\n",
        "count       3800                       3800    3800                 3800   \n",
        "unique        62                        355       1                  513   \n",
        "top     New York  Mount Sinai Health System      US  2017-02-06 16:49:16   \n",
        "freq        2544                        270    3800                  132   \n",
        "first        NaN                        NaN     NaN  2017-02-06 05:11:05   \n",
        "last         NaN                        NaN     NaN  2017-02-12 02:41:26   \n",
        "\n",
        "       expired formattedLocation formattedLocationFull formattedRelativeTime  \\\n",
        "count     3800              3800                  3800                  3800   \n",
        "unique       1                62                   108                    23   \n",
        "top      False      New York, NY          New York, NY            5 days ago   \n",
        "freq      3800              2544                  1648                  3325   \n",
        "first      NaN               NaN                   NaN                   NaN   \n",
        "last       NaN               NaN                   NaN                   NaN   \n",
        "\n",
        "       indeedApply            jobkey           jobtitle  \\\n",
        "count         3800              3800               3800   \n",
        "unique           2               528                500   \n",
        "top          False  07058ad45fccb56e  Software Engineer   \n",
        "freq          2912               132                134   \n",
        "first          NaN               NaN                NaN   \n",
        "last           NaN               NaN                NaN   \n",
        "\n",
        "                     onmousedown  \\\n",
        "count                       3800   \n",
        "unique                       150   \n",
        "top     indeed_clk(this,'6618');   \n",
        "freq                          50   \n",
        "first                        NaN   \n",
        "last                         NaN   \n",
        "\n",
        "                                                  snippet  source sponsored  \\\n",
        "count                                                3800    3800      3800   \n",
        "unique                                                493     280         1   \n",
        "top     Collects and records study data. Bachelor's in...  Indeed     False   \n",
        "freq                                                  264     316      3800   \n",
        "first                                                 NaN     NaN       NaN   \n",
        "last                                                  NaN     NaN       NaN   \n",
        "\n",
        "       state stations                                                url  \n",
        "count   3800     3800                                               3800  \n",
        "unique     2        1                                               3800  \n",
        "top       NY           http://www.indeed.com/viewjob?jk=3e722367f7ece...  \n",
        "freq    2758     3800                                                  1  \n",
        "first    NaN      NaN                                                NaN  \n",
        "last     NaN      NaN                                                NaN  "
       ]
      }
     ],
     "prompt_number": 15
    },
    {
     "cell_type": "code",
     "collapsed": false,
     "input": [
      "listing.head()"
     ],
     "language": "python",
     "metadata": {},
     "outputs": [
      {
       "html": [
        "<div style=\"max-width:1500px;overflow:auto;\">\n",
        "<table border=\"1\" class=\"dataframe\">\n",
        "  <thead>\n",
        "    <tr style=\"text-align: right;\">\n",
        "      <th></th>\n",
        "      <th>city</th>\n",
        "      <th>company</th>\n",
        "      <th>country</th>\n",
        "      <th>date</th>\n",
        "      <th>expired</th>\n",
        "      <th>formattedLocation</th>\n",
        "      <th>formattedLocationFull</th>\n",
        "      <th>formattedRelativeTime</th>\n",
        "      <th>indeedApply</th>\n",
        "      <th>jobkey</th>\n",
        "      <th>jobtitle</th>\n",
        "      <th>onmousedown</th>\n",
        "      <th>snippet</th>\n",
        "      <th>source</th>\n",
        "      <th>sponsored</th>\n",
        "      <th>state</th>\n",
        "      <th>stations</th>\n",
        "      <th>url</th>\n",
        "    </tr>\n",
        "  </thead>\n",
        "  <tbody>\n",
        "    <tr>\n",
        "      <th>0</th>\n",
        "      <td>New York</td>\n",
        "      <td>Sinai and Synapses</td>\n",
        "      <td>US</td>\n",
        "      <td>2017-02-12 02:41:26</td>\n",
        "      <td>False</td>\n",
        "      <td>New York, NY</td>\n",
        "      <td>New York, NY</td>\n",
        "      <td>1 hour ago</td>\n",
        "      <td>True</td>\n",
        "      <td>d3e1f88cae523832</td>\n",
        "      <td>Part-Time Program Administrator</td>\n",
        "      <td>indeed_clk(this,'2535');</td>\n",
        "      <td>Additional projects include the Sinai and Syna...</td>\n",
        "      <td>Indeed</td>\n",
        "      <td>False</td>\n",
        "      <td>NY</td>\n",
        "      <td></td>\n",
        "      <td>http://www.indeed.com/viewjob?jk=d3e1f88cae523...</td>\n",
        "    </tr>\n",
        "    <tr>\n",
        "      <th>1</th>\n",
        "      <td>Summit</td>\n",
        "      <td>Celgene</td>\n",
        "      <td>US</td>\n",
        "      <td>2017-02-11 23:06:55</td>\n",
        "      <td>False</td>\n",
        "      <td>Summit, NJ</td>\n",
        "      <td>Summit, NJ</td>\n",
        "      <td>5 hours ago</td>\n",
        "      <td>False</td>\n",
        "      <td>36ef749f7fde8a9f</td>\n",
        "      <td>Medical Director, Clinical R&amp;D, Hematology/Onc...</td>\n",
        "      <td>indeed_clk(this,'2535');</td>\n",
        "      <td>Science and contribute to our unique culture. ...</td>\n",
        "      <td>Celgene</td>\n",
        "      <td>False</td>\n",
        "      <td>NJ</td>\n",
        "      <td></td>\n",
        "      <td>http://www.indeed.com/viewjob?jk=36ef749f7fde8...</td>\n",
        "    </tr>\n",
        "    <tr>\n",
        "      <th>2</th>\n",
        "      <td>Parsippany</td>\n",
        "      <td>Foresight Group International AG</td>\n",
        "      <td>US</td>\n",
        "      <td>2017-02-12 01:50:09</td>\n",
        "      <td>False</td>\n",
        "      <td>Parsippany, NJ</td>\n",
        "      <td>Parsippany, NJ</td>\n",
        "      <td>2 hours ago</td>\n",
        "      <td>False</td>\n",
        "      <td>1da4e89fd9bcb3f2</td>\n",
        "      <td>Service Desk Engineer</td>\n",
        "      <td>indeed_clk(this,'2535');</td>\n",
        "      <td>Knowledge of Pharmaceutical / Life Sciences/ D...</td>\n",
        "      <td>Foresight Group International AG</td>\n",
        "      <td>False</td>\n",
        "      <td>NJ</td>\n",
        "      <td></td>\n",
        "      <td>http://www.indeed.com/viewjob?jk=1da4e89fd9bcb...</td>\n",
        "    </tr>\n",
        "    <tr>\n",
        "      <th>3</th>\n",
        "      <td>New York</td>\n",
        "      <td>Columbia University</td>\n",
        "      <td>US</td>\n",
        "      <td>2017-02-11 18:06:46</td>\n",
        "      <td>False</td>\n",
        "      <td>New York, NY</td>\n",
        "      <td>New York, NY</td>\n",
        "      <td>10 hours ago</td>\n",
        "      <td>False</td>\n",
        "      <td>368fb3f9993951ac</td>\n",
        "      <td>Staff Associate</td>\n",
        "      <td>indeed_clk(this,'2535');</td>\n",
        "      <td>Developing data collection instruments. The Wo...</td>\n",
        "      <td>Columbia University</td>\n",
        "      <td>False</td>\n",
        "      <td>NY</td>\n",
        "      <td></td>\n",
        "      <td>http://www.indeed.com/viewjob?jk=368fb3f999395...</td>\n",
        "    </tr>\n",
        "    <tr>\n",
        "      <th>4</th>\n",
        "      <td>New York</td>\n",
        "      <td>New York University</td>\n",
        "      <td>US</td>\n",
        "      <td>2017-02-11 18:22:44</td>\n",
        "      <td>False</td>\n",
        "      <td>New York, NY</td>\n",
        "      <td>New York, NY</td>\n",
        "      <td>9 hours ago</td>\n",
        "      <td>False</td>\n",
        "      <td>fa888045d040f4a2</td>\n",
        "      <td>Program Manager ( Research Strategies and Outr...</td>\n",
        "      <td>indeed_clk(this,'2535');</td>\n",
        "      <td>Knowledge, skills and abilities in Data Scienc...</td>\n",
        "      <td>New York University</td>\n",
        "      <td>False</td>\n",
        "      <td>NY</td>\n",
        "      <td></td>\n",
        "      <td>http://www.indeed.com/viewjob?jk=fa888045d040f...</td>\n",
        "    </tr>\n",
        "  </tbody>\n",
        "</table>\n",
        "</div>"
       ],
       "metadata": {},
       "output_type": "pyout",
       "prompt_number": 16,
       "text": [
        "         city                           company country                date  \\\n",
        "0    New York                Sinai and Synapses      US 2017-02-12 02:41:26   \n",
        "1      Summit                           Celgene      US 2017-02-11 23:06:55   \n",
        "2  Parsippany  Foresight Group International AG      US 2017-02-12 01:50:09   \n",
        "3    New York               Columbia University      US 2017-02-11 18:06:46   \n",
        "4    New York               New York University      US 2017-02-11 18:22:44   \n",
        "\n",
        "  expired formattedLocation formattedLocationFull formattedRelativeTime  \\\n",
        "0   False      New York, NY          New York, NY            1 hour ago   \n",
        "1   False        Summit, NJ            Summit, NJ           5 hours ago   \n",
        "2   False    Parsippany, NJ        Parsippany, NJ           2 hours ago   \n",
        "3   False      New York, NY          New York, NY          10 hours ago   \n",
        "4   False      New York, NY          New York, NY           9 hours ago   \n",
        "\n",
        "  indeedApply            jobkey  \\\n",
        "0        True  d3e1f88cae523832   \n",
        "1       False  36ef749f7fde8a9f   \n",
        "2       False  1da4e89fd9bcb3f2   \n",
        "3       False  368fb3f9993951ac   \n",
        "4       False  fa888045d040f4a2   \n",
        "\n",
        "                                            jobtitle  \\\n",
        "0                    Part-Time Program Administrator   \n",
        "1  Medical Director, Clinical R&D, Hematology/Onc...   \n",
        "2                              Service Desk Engineer   \n",
        "3                                    Staff Associate   \n",
        "4  Program Manager ( Research Strategies and Outr...   \n",
        "\n",
        "                onmousedown  \\\n",
        "0  indeed_clk(this,'2535');   \n",
        "1  indeed_clk(this,'2535');   \n",
        "2  indeed_clk(this,'2535');   \n",
        "3  indeed_clk(this,'2535');   \n",
        "4  indeed_clk(this,'2535');   \n",
        "\n",
        "                                             snippet  \\\n",
        "0  Additional projects include the Sinai and Syna...   \n",
        "1  Science and contribute to our unique culture. ...   \n",
        "2  Knowledge of Pharmaceutical / Life Sciences/ D...   \n",
        "3  Developing data collection instruments. The Wo...   \n",
        "4  Knowledge, skills and abilities in Data Scienc...   \n",
        "\n",
        "                             source sponsored state stations  \\\n",
        "0                            Indeed     False    NY            \n",
        "1                           Celgene     False    NJ            \n",
        "2  Foresight Group International AG     False    NJ            \n",
        "3               Columbia University     False    NY            \n",
        "4               New York University     False    NY            \n",
        "\n",
        "                                                 url  \n",
        "0  http://www.indeed.com/viewjob?jk=d3e1f88cae523...  \n",
        "1  http://www.indeed.com/viewjob?jk=36ef749f7fde8...  \n",
        "2  http://www.indeed.com/viewjob?jk=1da4e89fd9bcb...  \n",
        "3  http://www.indeed.com/viewjob?jk=368fb3f999395...  \n",
        "4  http://www.indeed.com/viewjob?jk=fa888045d040f...  "
       ]
      }
     ],
     "prompt_number": 16
    },
    {
     "cell_type": "code",
     "collapsed": false,
     "input": [
      "listing.groupby('jobkey').agg(lambda l: l.apply(pd.Series.nunique)).max()"
     ],
     "language": "python",
     "metadata": {},
     "outputs": [
      {
       "metadata": {},
       "output_type": "pyout",
       "prompt_number": 17,
       "text": [
        "city                       1\n",
        "company                    1\n",
        "country                    1\n",
        "date                       1\n",
        "expired                    1\n",
        "formattedLocation          1\n",
        "formattedLocationFull      1\n",
        "formattedRelativeTime      1\n",
        "indeedApply                1\n",
        "jobtitle                   1\n",
        "onmousedown              131\n",
        "snippet                    1\n",
        "source                     1\n",
        "sponsored                  1\n",
        "state                      1\n",
        "stations                   1\n",
        "url                      132\n",
        "dtype: int64"
       ]
      }
     ],
     "prompt_number": 17
    },
    {
     "cell_type": "code",
     "collapsed": false,
     "input": [
      "listing_unique = listing.loc[~listing.duplicated(['jobkey']),:]"
     ],
     "language": "python",
     "metadata": {},
     "outputs": [],
     "prompt_number": 18
    },
    {
     "cell_type": "code",
     "collapsed": false,
     "input": [
      "listing_unique.describe()"
     ],
     "language": "python",
     "metadata": {},
     "outputs": [
      {
       "html": [
        "<div style=\"max-width:1500px;overflow:auto;\">\n",
        "<table border=\"1\" class=\"dataframe\">\n",
        "  <thead>\n",
        "    <tr style=\"text-align: right;\">\n",
        "      <th></th>\n",
        "      <th>city</th>\n",
        "      <th>company</th>\n",
        "      <th>country</th>\n",
        "      <th>date</th>\n",
        "      <th>expired</th>\n",
        "      <th>formattedLocation</th>\n",
        "      <th>formattedLocationFull</th>\n",
        "      <th>formattedRelativeTime</th>\n",
        "      <th>indeedApply</th>\n",
        "      <th>jobkey</th>\n",
        "      <th>jobtitle</th>\n",
        "      <th>onmousedown</th>\n",
        "      <th>snippet</th>\n",
        "      <th>source</th>\n",
        "      <th>sponsored</th>\n",
        "      <th>state</th>\n",
        "      <th>stations</th>\n",
        "      <th>url</th>\n",
        "    </tr>\n",
        "  </thead>\n",
        "  <tbody>\n",
        "    <tr>\n",
        "      <th>count</th>\n",
        "      <td>528</td>\n",
        "      <td>528</td>\n",
        "      <td>528</td>\n",
        "      <td>528</td>\n",
        "      <td>528</td>\n",
        "      <td>528</td>\n",
        "      <td>528</td>\n",
        "      <td>528</td>\n",
        "      <td>528</td>\n",
        "      <td>528</td>\n",
        "      <td>528</td>\n",
        "      <td>528</td>\n",
        "      <td>528</td>\n",
        "      <td>528</td>\n",
        "      <td>528</td>\n",
        "      <td>528</td>\n",
        "      <td>528</td>\n",
        "      <td>528</td>\n",
        "    </tr>\n",
        "    <tr>\n",
        "      <th>unique</th>\n",
        "      <td>62</td>\n",
        "      <td>355</td>\n",
        "      <td>1</td>\n",
        "      <td>513</td>\n",
        "      <td>1</td>\n",
        "      <td>62</td>\n",
        "      <td>108</td>\n",
        "      <td>23</td>\n",
        "      <td>2</td>\n",
        "      <td>528</td>\n",
        "      <td>500</td>\n",
        "      <td>22</td>\n",
        "      <td>493</td>\n",
        "      <td>280</td>\n",
        "      <td>1</td>\n",
        "      <td>2</td>\n",
        "      <td>1</td>\n",
        "      <td>528</td>\n",
        "    </tr>\n",
        "    <tr>\n",
        "      <th>top</th>\n",
        "      <td>New York</td>\n",
        "      <td>Dr. Richard Izquierdo Health and Science Chart...</td>\n",
        "      <td>US</td>\n",
        "      <td>2017-02-10 00:37:36</td>\n",
        "      <td>False</td>\n",
        "      <td>New York, NY</td>\n",
        "      <td>New York, NY</td>\n",
        "      <td>3 days ago</td>\n",
        "      <td>False</td>\n",
        "      <td>ce3c9874ef4f1c8b</td>\n",
        "      <td>Data Analyst</td>\n",
        "      <td>indeed_clk(this,'5225');</td>\n",
        "      <td>Bachelor of Science degree in Business, Logist...</td>\n",
        "      <td>Indeed</td>\n",
        "      <td>False</td>\n",
        "      <td>NY</td>\n",
        "      <td></td>\n",
        "      <td>http://www.indeed.com/viewjob?jk=4aee8fdd7a9d5...</td>\n",
        "    </tr>\n",
        "    <tr>\n",
        "      <th>freq</th>\n",
        "      <td>318</td>\n",
        "      <td>10</td>\n",
        "      <td>528</td>\n",
        "      <td>2</td>\n",
        "      <td>528</td>\n",
        "      <td>318</td>\n",
        "      <td>208</td>\n",
        "      <td>119</td>\n",
        "      <td>426</td>\n",
        "      <td>1</td>\n",
        "      <td>3</td>\n",
        "      <td>25</td>\n",
        "      <td>4</td>\n",
        "      <td>54</td>\n",
        "      <td>528</td>\n",
        "      <td>402</td>\n",
        "      <td>528</td>\n",
        "      <td>1</td>\n",
        "    </tr>\n",
        "    <tr>\n",
        "      <th>first</th>\n",
        "      <td>NaN</td>\n",
        "      <td>NaN</td>\n",
        "      <td>NaN</td>\n",
        "      <td>2017-02-06 05:11:05</td>\n",
        "      <td>NaN</td>\n",
        "      <td>NaN</td>\n",
        "      <td>NaN</td>\n",
        "      <td>NaN</td>\n",
        "      <td>NaN</td>\n",
        "      <td>NaN</td>\n",
        "      <td>NaN</td>\n",
        "      <td>NaN</td>\n",
        "      <td>NaN</td>\n",
        "      <td>NaN</td>\n",
        "      <td>NaN</td>\n",
        "      <td>NaN</td>\n",
        "      <td>NaN</td>\n",
        "      <td>NaN</td>\n",
        "    </tr>\n",
        "    <tr>\n",
        "      <th>last</th>\n",
        "      <td>NaN</td>\n",
        "      <td>NaN</td>\n",
        "      <td>NaN</td>\n",
        "      <td>2017-02-12 02:41:26</td>\n",
        "      <td>NaN</td>\n",
        "      <td>NaN</td>\n",
        "      <td>NaN</td>\n",
        "      <td>NaN</td>\n",
        "      <td>NaN</td>\n",
        "      <td>NaN</td>\n",
        "      <td>NaN</td>\n",
        "      <td>NaN</td>\n",
        "      <td>NaN</td>\n",
        "      <td>NaN</td>\n",
        "      <td>NaN</td>\n",
        "      <td>NaN</td>\n",
        "      <td>NaN</td>\n",
        "      <td>NaN</td>\n",
        "    </tr>\n",
        "  </tbody>\n",
        "</table>\n",
        "</div>"
       ],
       "metadata": {},
       "output_type": "pyout",
       "prompt_number": 19,
       "text": [
        "            city                                            company country  \\\n",
        "count        528                                                528     528   \n",
        "unique        62                                                355       1   \n",
        "top     New York  Dr. Richard Izquierdo Health and Science Chart...      US   \n",
        "freq         318                                                 10     528   \n",
        "first        NaN                                                NaN     NaN   \n",
        "last         NaN                                                NaN     NaN   \n",
        "\n",
        "                       date expired formattedLocation formattedLocationFull  \\\n",
        "count                   528     528               528                   528   \n",
        "unique                  513       1                62                   108   \n",
        "top     2017-02-10 00:37:36   False      New York, NY          New York, NY   \n",
        "freq                      2     528               318                   208   \n",
        "first   2017-02-06 05:11:05     NaN               NaN                   NaN   \n",
        "last    2017-02-12 02:41:26     NaN               NaN                   NaN   \n",
        "\n",
        "       formattedRelativeTime indeedApply            jobkey      jobtitle  \\\n",
        "count                    528         528               528           528   \n",
        "unique                    23           2               528           500   \n",
        "top               3 days ago       False  ce3c9874ef4f1c8b  Data Analyst   \n",
        "freq                     119         426                 1             3   \n",
        "first                    NaN         NaN               NaN           NaN   \n",
        "last                     NaN         NaN               NaN           NaN   \n",
        "\n",
        "                     onmousedown  \\\n",
        "count                        528   \n",
        "unique                        22   \n",
        "top     indeed_clk(this,'5225');   \n",
        "freq                          25   \n",
        "first                        NaN   \n",
        "last                         NaN   \n",
        "\n",
        "                                                  snippet  source sponsored  \\\n",
        "count                                                 528     528       528   \n",
        "unique                                                493     280         1   \n",
        "top     Bachelor of Science degree in Business, Logist...  Indeed     False   \n",
        "freq                                                    4      54       528   \n",
        "first                                                 NaN     NaN       NaN   \n",
        "last                                                  NaN     NaN       NaN   \n",
        "\n",
        "       state stations                                                url  \n",
        "count    528      528                                                528  \n",
        "unique     2        1                                                528  \n",
        "top       NY           http://www.indeed.com/viewjob?jk=4aee8fdd7a9d5...  \n",
        "freq     402      528                                                  1  \n",
        "first    NaN      NaN                                                NaN  \n",
        "last     NaN      NaN                                                NaN  "
       ]
      }
     ],
     "prompt_number": 19
    },
    {
     "cell_type": "code",
     "collapsed": false,
     "input": [
      "listing_unique.groupby('company')['company'].agg('count').sort_values(ascending=False)[0:20]"
     ],
     "language": "python",
     "metadata": {},
     "outputs": [
      {
       "metadata": {},
       "output_type": "pyout",
       "prompt_number": 20,
       "text": [
        "company\n",
        "Columbia University                                        10\n",
        "Dr. Richard Izquierdo Health and Science Charter School    10\n",
        "Mount Sinai Health System                                   8\n",
        "Consumer Reports                                            8\n",
        "Celgene                                                     7\n",
        "Memorial Sloan-Kettering Cancer Center                      7\n",
        "Cornell University                                          6\n",
        "Selby Jennings                                              6\n",
        "JPMorgan Chase                                              6\n",
        "Regeneron                                                   6\n",
        "Celgene Corporation                                         6\n",
        "Merck                                                       5\n",
        "Northwell Health                                            5\n",
        "Pfizer                                                      5\n",
        "Pace University                                             5\n",
        "BNY Mellon                                                  4\n",
        "IPG Mediabrands                                             4\n",
        "Workbridge Associates                                       4\n",
        "JPMorgan Chase - Asset Management                           4\n",
        "Averity                                                     3\n",
        "Name: company, dtype: int64"
       ]
      }
     ],
     "prompt_number": 20
    },
    {
     "cell_type": "code",
     "collapsed": false,
     "input": [
      "plt.hist(listing_unique['date'].apply(lambda l: l.toordinal()) - date(1970, 1, 1).toordinal() - time.time()/24/60/60, bins=30)"
     ],
     "language": "python",
     "metadata": {},
     "outputs": [
      {
       "metadata": {},
       "output_type": "pyout",
       "prompt_number": 21,
       "text": [
        "(array([  45.,    0.,    0.,    0.,    0.,   83.,    0.,    0.,    0.,\n",
        "           0.,  125.,    0.,    0.,    0.,    0.,  100.,    0.,    0.,\n",
        "           0.,    0.,  111.,    0.,    0.,    0.,    0.,   62.,    0.,\n",
        "           0.,    0.,    2.]),\n",
        " array([-6.17982514, -5.97982514, -5.77982514, -5.57982514, -5.37982514,\n",
        "        -5.17982514, -4.97982514, -4.77982514, -4.57982514, -4.37982514,\n",
        "        -4.17982514, -3.97982514, -3.77982514, -3.57982514, -3.37982514,\n",
        "        -3.17982514, -2.97982514, -2.77982514, -2.57982514, -2.37982514,\n",
        "        -2.17982514, -1.97982514, -1.77982514, -1.57982514, -1.37982514,\n",
        "        -1.17982514, -0.97982514, -0.77982514, -0.57982514, -0.37982514,\n",
        "        -0.17982514]),\n",
        " <a list of 30 Patch objects>)"
       ]
      },
      {
       "metadata": {},
       "output_type": "display_data",
       "png": "[encoded data removed]",
       "text": [
        "<matplotlib.figure.Figure at 0x7fa0da540110>"
       ]
      }
     ],
     "prompt_number": 21
    }
   ],
   "metadata": {}
  }
 ]
}